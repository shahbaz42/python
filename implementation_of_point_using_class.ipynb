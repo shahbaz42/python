{
  "nbformat": 4,
  "nbformat_minor": 0,
  "metadata": {
    "colab": {
      "provenance": [],
      "collapsed_sections": [],
      "authorship_tag": "ABX9TyP6X0i452crs5V0rXDtHkeW",
      "include_colab_link": true
    },
    "kernelspec": {
      "name": "python3",
      "display_name": "Python 3"
    },
    "language_info": {
      "name": "python"
    }
  },
  "cells": [
    {
      "cell_type": "markdown",
      "metadata": {
        "id": "view-in-github",
        "colab_type": "text"
      },
      "source": [
        "<a href=\"https://colab.research.google.com/github/shahbaz42/python/blob/main/implementation_of_point_using_class.ipynb\" target=\"_parent\"><img src=\"https://colab.research.google.com/assets/colab-badge.svg\" alt=\"Open In Colab\"/></a>"
      ]
    },
    {
      "cell_type": "markdown",
      "source": [
        "**Point has been implemented in 2 ways :**\n",
        "\n",
        "\n",
        "1.   2D coordinate system\n",
        "2.   Polar coordinate system\n",
        "\n",
        "**Here we can see no matter how it is implemented, class methods work in same way **"
      ],
      "metadata": {
        "id": "UHOGB6414Auu"
      }
    },
    {
      "cell_type": "markdown",
      "source": [
        "**Implementation of point using 2D coordinate system**"
      ],
      "metadata": {
        "id": "h5DnjOvPxSLy"
      }
    },
    {
      "cell_type": "code",
      "execution_count": 1,
      "metadata": {
        "id": "YbGjlCo8vrng"
      },
      "outputs": [],
      "source": [
        "class Point:\n",
        "  def __init__(self, a=0, b=0):\n",
        "    \"\"\"\n",
        "    Constructor for creating point\n",
        "    \"\"\"\n",
        "    self.x = a\n",
        "    self.y = b\n",
        "\n",
        "  def __str__(self):\n",
        "    \"\"\"\n",
        "    Converts objects into string\n",
        "    Implicetely invoked by print()\n",
        "    \"\"\"\n",
        "    return(f\"({self.x}, {self.y})\")\n",
        "\n",
        "  def __add__(self, p):\n",
        "    \"\"\"\n",
        "    Overloading + operator for adding two points\n",
        "    \"\"\"\n",
        "    return(Point(self.x + p.x, self.y + p.y))\n",
        "\n",
        "  def odistance(self):\n",
        "    \"\"\"\n",
        "    Returns distance from origin\n",
        "    \"\"\"\n",
        "    import math\n",
        "    d = math.sqrt(self.x*self.x + self.y*self.y)\n",
        "    return(d)\n",
        "\n",
        "  def translate(self, deltax, deltay):\n",
        "    \"\"\"\n",
        "    Translates the point by deltax, deltay\n",
        "    \"\"\"\n",
        "    self.x += deltax\n",
        "    self.y += deltay\n"
      ]
    },
    {
      "cell_type": "markdown",
      "source": [
        "Creating two points"
      ],
      "metadata": {
        "id": "w12MhaOrxhDa"
      }
    },
    {
      "cell_type": "code",
      "source": [
        "p1 = Point(3,4)\n",
        "p2 = Point(1,1)\n",
        "\n",
        "print(p1, p2)"
      ],
      "metadata": {
        "id": "AcNpSXx7xfFB"
      },
      "execution_count": 2,
      "outputs": []
    },
    {
      "cell_type": "markdown",
      "source": [
        "calculating distance from origin"
      ],
      "metadata": {
        "id": "2upymFeQzYuE"
      }
    },
    {
      "cell_type": "code",
      "source": [
        "print(p1.odistance())\n",
        "print(p2.odistance())"
      ],
      "metadata": {
        "colab": {
          "base_uri": "https://localhost:8080/"
        },
        "id": "4ouuMv9dzX2F",
        "outputId": "5c99920d-8cda-4592-a0a7-1cd7d232c0af"
      },
      "execution_count": 4,
      "outputs": [
        {
          "output_type": "stream",
          "name": "stdout",
          "text": [
            "5.0\n",
            "1.4142135623730951\n"
          ]
        }
      ]
    },
    {
      "cell_type": "markdown",
      "source": [
        "translating points\n"
      ],
      "metadata": {
        "id": "OhruLe4I0XpS"
      }
    },
    {
      "cell_type": "code",
      "source": [
        "p1.translate(1,1)\n",
        "p2.translate(2,2)\n",
        "print(p1, p2)"
      ],
      "metadata": {
        "colab": {
          "base_uri": "https://localhost:8080/"
        },
        "id": "MEIUQN3h0WRG",
        "outputId": "fee7d3f3-a936-4535-af59-5a31eeb68e36"
      },
      "execution_count": 6,
      "outputs": [
        {
          "output_type": "stream",
          "name": "stdout",
          "text": [
            "(5, 6) (3, 3)\n"
          ]
        }
      ]
    },
    {
      "cell_type": "markdown",
      "source": [
        "**Implementation of points using polar coordinates system**"
      ],
      "metadata": {
        "id": "ddU1DkCZ0oR_"
      }
    },
    {
      "cell_type": "code",
      "source": [
        "import math\n",
        "\n",
        "class Point:\n",
        "  def __init__(self, a=0, b=0):\n",
        "    \"\"\"\n",
        "    Constructor for creating point\n",
        "    \"\"\"\n",
        "    self.r = math.sqrt(a*a, b*b)\n",
        "    if a == 0 :\n",
        "      self.theta = math.pi/2\n",
        "    else :\n",
        "      self.theta = math.atan(b/a)\n",
        "\n",
        "  def __str__(self):\n",
        "    \"\"\"\n",
        "    Converts objects into string\n",
        "    Implicetely invoked by print()\n",
        "    \"\"\"\n",
        "    return(f\"({self.x}, {self.y})\")\n",
        "\n",
        "  def __add__(self, p):\n",
        "    \"\"\"\n",
        "    Overloading + operator for adding two points\n",
        "    \"\"\"\n",
        "    x = self.r*math.cos(self.theta) + p.r*math.cos(p.theta)\n",
        "    y = self.r*math.sin(self.theta) + p.r*math.cos(p.theta)\n",
        "    return(Point(x,y))\n",
        "\n",
        "  def odistance(self):\n",
        "    \"\"\"\n",
        "    Returns distance from origin\n",
        "    \"\"\"\n",
        "    return(self.r)\n",
        "\n",
        "  def translate(self, deltax, deltay):\n",
        "    \"\"\"\n",
        "    Translates the point by deltax, deltay\n",
        "    \"\"\"\n",
        "    x = self.r*math.cos(self.theta) + deltax\n",
        "    y = self.r*math.sin(self.theta) + deltay\n",
        "\n",
        "    self.r = math.sqrt(x*x, y*y)\n",
        "    if x == 0 :\n",
        "      self.theta = math.pi/2\n",
        "    else :\n",
        "      self.theta = math.atan(y/x)\n",
        "\n"
      ],
      "metadata": {
        "id": "xN4b1zvF02MB"
      },
      "execution_count": null,
      "outputs": []
    },
    {
      "cell_type": "markdown",
      "source": [
        "Creating two points"
      ],
      "metadata": {
        "id": "D2VN9DRK3eoe"
      }
    },
    {
      "cell_type": "code",
      "source": [
        "p1 = Point(3,4)\n",
        "p2 = Point(1,1)\n",
        "\n",
        "print(p1, p2)"
      ],
      "metadata": {
        "colab": {
          "base_uri": "https://localhost:8080/"
        },
        "id": "59fdkxXo3h1O",
        "outputId": "560ca245-0efe-4248-80a8-e48ad53b29ac"
      },
      "execution_count": 7,
      "outputs": [
        {
          "output_type": "stream",
          "name": "stdout",
          "text": [
            "(3, 4) (1, 1)\n"
          ]
        }
      ]
    },
    {
      "cell_type": "markdown",
      "source": [
        "calculating distance from origin"
      ],
      "metadata": {
        "id": "gDCYsjg63rjz"
      }
    },
    {
      "cell_type": "code",
      "source": [
        "print(p1.odistance())\n",
        "print(p2.odistance())"
      ],
      "metadata": {
        "colab": {
          "base_uri": "https://localhost:8080/"
        },
        "id": "ubOdN0tP3tqD",
        "outputId": "93c2656c-a0bc-4f10-88b1-9d69be410f7e"
      },
      "execution_count": 8,
      "outputs": [
        {
          "output_type": "stream",
          "name": "stdout",
          "text": [
            "5.0\n",
            "1.4142135623730951\n"
          ]
        }
      ]
    },
    {
      "cell_type": "markdown",
      "source": [
        "translating points"
      ],
      "metadata": {
        "id": "JB5ndmRX32tI"
      }
    },
    {
      "cell_type": "code",
      "source": [
        "p1.translate(1,1)\n",
        "p2.translate(2,2)\n",
        "print(p1, p2)"
      ],
      "metadata": {
        "colab": {
          "base_uri": "https://localhost:8080/"
        },
        "id": "QvAuQOzX34T2",
        "outputId": "7a446098-957c-4cfa-dc14-20e99a698c68"
      },
      "execution_count": 9,
      "outputs": [
        {
          "output_type": "stream",
          "name": "stdout",
          "text": [
            "(4, 5) (3, 3)\n"
          ]
        }
      ]
    }
  ]
}