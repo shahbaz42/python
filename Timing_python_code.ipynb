{
  "nbformat": 4,
  "nbformat_minor": 0,
  "metadata": {
    "colab": {
      "provenance": [],
      "collapsed_sections": [],
      "authorship_tag": "ABX9TyNOy10WurvZdXcqYQ+sbf7G",
      "include_colab_link": true
    },
    "kernelspec": {
      "name": "python3",
      "display_name": "Python 3"
    },
    "language_info": {
      "name": "python"
    }
  },
  "cells": [
    {
      "cell_type": "markdown",
      "metadata": {
        "id": "view-in-github",
        "colab_type": "text"
      },
      "source": [
        "<a href=\"https://colab.research.google.com/github/shahbaz42/python/blob/main/Timing_python_code.ipynb\" target=\"_parent\"><img src=\"https://colab.research.google.com/assets/colab-badge.svg\" alt=\"Open In Colab\"/></a>"
      ]
    },
    {
      "cell_type": "code",
      "execution_count": 2,
      "metadata": {
        "id": "OmRUmHZ-rF65"
      },
      "outputs": [],
      "source": [
        "import sys\n",
        "\n",
        "sys.setrecursionlimit(35000)\n",
        "\n",
        "def fact(n):\n",
        "  if n <= 1 :\n",
        "    return 1\n",
        "  else :\n",
        "    return n*fact(n-1)"
      ]
    },
    {
      "cell_type": "code",
      "source": [
        "import time \n",
        "\n",
        "class Timer:\n",
        "\n",
        "  def __init__(self):\n",
        "    self.start_time = time.perf_counter()\n",
        "  \n",
        "  def elspsed(self):\n",
        "    \"\"\"\n",
        "    This returns elapsed time\n",
        "    \"\"\"\n",
        "    return time.perf_counter() - self.start_time"
      ],
      "metadata": {
        "id": "qiNpBOxRvKGq"
      },
      "execution_count": 3,
      "outputs": []
    },
    {
      "cell_type": "code",
      "source": [
        "t1 = Timer()\n",
        "fact(500)\n",
        "print(t1.elspsed())"
      ],
      "metadata": {
        "colab": {
          "base_uri": "https://localhost:8080/"
        },
        "id": "OnyTxU2e4IkP",
        "outputId": "d9aaffca-a457-45f3-a399-ab6cda8a3f38"
      },
      "execution_count": 4,
      "outputs": [
        {
          "output_type": "stream",
          "name": "stdout",
          "text": [
            "0.0007676139998693543\n"
          ]
        }
      ]
    }
  ]
}