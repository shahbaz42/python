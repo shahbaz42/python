{
 "cells": [
  {
   "cell_type": "markdown",
   "metadata": {
    "id": "ITd1KoP79Hxl"
   },
   "source": [
    "# A tutorial to scrape the web. \n",
    "\n",
    "This example scrapes the BBC weather website for any specific city, and collects weather forecast for the next 14 days and saves it as a csv file.\n",
    "\n",
    "*Web scraping might not be legal always. It is a good idea to check the terms of the website you plan to scrape before proceeding. Also, if your code requests a url from a server multiple times, it is a good practice to either cache your requests, or insert a timed delay between consecutive requests.*"
   ]
  },
  {
   "cell_type": "code",
   "execution_count": 2,
   "metadata": {
    "executionInfo": {
     "elapsed": 14,
     "status": "ok",
     "timestamp": 1667321212030,
     "user": {
      "displayName": "Mahesh Balan U",
      "userId": "03222065794003590393"
     },
     "user_tz": -330
    },
    "id": "-OF91PT49Hx_"
   },
   "outputs": [],
   "source": [
    "import json                   # to convert API to json format\n",
    "\n",
    "from urllib.parse import urlencode\n",
    "\n",
    "import requests               # to get the webpage\n",
    "from bs4 import BeautifulSoup # to parse the webpage\n",
    "\n",
    "import pandas as pd\n",
    "import re                     # regular expression operators\n",
    "\n",
    "from datetime import datetime"
   ]
  },
  {
   "cell_type": "markdown",
   "metadata": {
    "id": "mPMB75R39Hzp"
   },
   "source": [
    "We now GET the webpage of interest, from the server"
   ]
  },
  {
   "cell_type": "code",
   "execution_count": 3,
   "metadata": {
    "colab": {
     "base_uri": "https://localhost:8080/",
     "height": 53
    },
    "executionInfo": {
     "elapsed": 13,
     "status": "ok",
     "timestamp": 1667321212031,
     "user": {
      "displayName": "Mahesh Balan U",
      "userId": "03222065794003590393"
     },
     "user_tz": -330
    },
    "id": "su3hVa9jBRBO",
    "outputId": "9358d985-51d8-473e-baa1-b4e56c347590"
   },
   "outputs": [
    {
     "data": {
      "text/plain": [
       "'https://locator-service.api.bbci.co.uk/locations?api_key=AGbFAKx58hyjQScCXIYrxuEwJh2W2cmv&s=Mumbai&stack=aws&locale=en&filter=international&place-types=settlement%2Cairport%2Cdistrict&order=importance&a=true&format=json'"
      ]
     },
     "execution_count": 3,
     "metadata": {},
     "output_type": "execute_result"
    }
   ],
   "source": [
    "required_city = \"Mumbai\"\n",
    "location_url = 'https://locator-service.api.bbci.co.uk/locations?' + urlencode({\n",
    "   'api_key': 'AGbFAKx58hyjQScCXIYrxuEwJh2W2cmv',\n",
    "   's': required_city,\n",
    "   'stack': 'aws',\n",
    "   'locale': 'en',\n",
    "   'filter': 'international',\n",
    "   'place-types': 'settlement,airport,district',\n",
    "   'order': 'importance',\n",
    "   'a': 'true',\n",
    "   'format': 'json'\n",
    "})\n",
    "location_url"
   ]
  },
  {
   "cell_type": "code",
   "execution_count": 5,
   "metadata": {
    "colab": {
     "base_uri": "https://localhost:8080/"
    },
    "executionInfo": {
     "elapsed": 831,
     "status": "ok",
     "timestamp": 1667321212853,
     "user": {
      "displayName": "Mahesh Balan U",
      "userId": "03222065794003590393"
     },
     "user_tz": -330
    },
    "id": "Ks0vHJ_nBXSz",
    "outputId": "3496fecc-6c8b-4da5-8032-4b1b8de4e92b"
   },
   "outputs": [
    {
     "data": {
      "text/plain": [
       "{'response': {'results': {'results': [{'id': '1275339',\n",
       "     'name': 'Mumbai',\n",
       "     'container': 'India',\n",
       "     'containerId': 1269750,\n",
       "     'language': 'en',\n",
       "     'timezone': 'Asia/Kolkata',\n",
       "     'country': 'IN',\n",
       "     'latitude': 19.07283,\n",
       "     'longitude': 72.88261,\n",
       "     'placeType': 'settlement'}],\n",
       "   'totalResults': 1}}}"
      ]
     },
     "execution_count": 5,
     "metadata": {},
     "output_type": "execute_result"
    }
   ],
   "source": [
    "result = requests.get(location_url).json()\n",
    "result"
   ]
  },
  {
   "cell_type": "code",
   "execution_count": 6,
   "metadata": {
    "executionInfo": {
     "elapsed": 868,
     "status": "ok",
     "timestamp": 1667321213719,
     "user": {
      "displayName": "Mahesh Balan U",
      "userId": "03222065794003590393"
     },
     "user_tz": -330
    },
    "id": "uPeJOmob9H0P"
   },
   "outputs": [],
   "source": [
    "# url      = 'https://www.bbc.com/weather/1275339' # url to BBC weather, corresponding to a specific city (Mumbai, in this example)\n",
    "url      = 'https://www.bbc.com/weather/'+result['response']['results']['results'][0]['id']\n",
    "response = requests.get(url)"
   ]
  },
  {
   "cell_type": "markdown",
   "metadata": {
    "id": "gAOhobDN9H0W"
   },
   "source": [
    "Next, we initiate an instance of  BeautifulSoup."
   ]
  },
  {
   "cell_type": "code",
   "execution_count": 7,
   "metadata": {
    "executionInfo": {
     "elapsed": 66,
     "status": "ok",
     "timestamp": 1667321213720,
     "user": {
      "displayName": "Mahesh Balan U",
      "userId": "03222065794003590393"
     },
     "user_tz": -330
    },
    "id": "8Wn5Bc_49H1A"
   },
   "outputs": [],
   "source": [
    "soup = BeautifulSoup(response.content,'html.parser') "
   ]
  },
  {
   "cell_type": "markdown",
   "metadata": {
    "id": "KC1TxUzG9H2G"
   },
   "source": [
    "The information we want (daily high and low temp., and daily weather summary), are in specific blocks on the webpage. \n",
    "We need to find the block type, type of identifier, and the identifier name (all these can be figured out by right clicking\n",
    "on the webpage and selecting 'Inspect' on the Chrome browser; similar modus operandi for other browsers)"
   ]
  },
  {
   "cell_type": "code",
   "execution_count": 8,
   "metadata": {
    "colab": {
     "base_uri": "https://localhost:8080/"
    },
    "executionInfo": {
     "elapsed": 66,
     "status": "ok",
     "timestamp": 1667321213720,
     "user": {
      "displayName": "Mahesh Balan U",
      "userId": "03222065794003590393"
     },
     "user_tz": -330
    },
    "id": "wkm9oya79H2p",
    "outputId": "f0f7b12a-eef9-4623-91d8-ac2722ad3db0"
   },
   "outputs": [
    {
     "data": {
      "text/plain": [
       "[<span class=\"wr-day-temperature__high-value\"><span class=\"wr-value--temperature\"><span class=\"wr-value--temperature--c\">31°</span><span class=\"wr-hide\"> </span><span class=\"wr-value--temperature--f\">89°</span></span></span>,\n",
       " <span class=\"wr-day-temperature__high-value\"><span class=\"wr-value--temperature\"><span class=\"wr-value--temperature--c\">31°</span><span class=\"wr-hide\"> </span><span class=\"wr-value--temperature--f\">87°</span></span></span>,\n",
       " <span class=\"wr-day-temperature__high-value\"><span class=\"wr-value--temperature\"><span class=\"wr-value--temperature--c\">29°</span><span class=\"wr-hide\"> </span><span class=\"wr-value--temperature--f\">84°</span></span></span>,\n",
       " <span class=\"wr-day-temperature__high-value\"><span class=\"wr-value--temperature\"><span class=\"wr-value--temperature--c\">29°</span><span class=\"wr-hide\"> </span><span class=\"wr-value--temperature--f\">84°</span></span></span>,\n",
       " <span class=\"wr-day-temperature__high-value\"><span class=\"wr-value--temperature\"><span class=\"wr-value--temperature--c\">28°</span><span class=\"wr-hide\"> </span><span class=\"wr-value--temperature--f\">83°</span></span></span>,\n",
       " <span class=\"wr-day-temperature__high-value\"><span class=\"wr-value--temperature\"><span class=\"wr-value--temperature--c\">29°</span><span class=\"wr-hide\"> </span><span class=\"wr-value--temperature--f\">85°</span></span></span>,\n",
       " <span class=\"wr-day-temperature__high-value\"><span class=\"wr-value--temperature\"><span class=\"wr-value--temperature--c\">30°</span><span class=\"wr-hide\"> </span><span class=\"wr-value--temperature--f\">86°</span></span></span>,\n",
       " <span class=\"wr-day-temperature__high-value\"><span class=\"wr-value--temperature\"><span class=\"wr-value--temperature--c\">30°</span><span class=\"wr-hide\"> </span><span class=\"wr-value--temperature--f\">86°</span></span></span>,\n",
       " <span class=\"wr-day-temperature__high-value\"><span class=\"wr-value--temperature\"><span class=\"wr-value--temperature--c\">31°</span><span class=\"wr-hide\"> </span><span class=\"wr-value--temperature--f\">87°</span></span></span>,\n",
       " <span class=\"wr-day-temperature__high-value\"><span class=\"wr-value--temperature\"><span class=\"wr-value--temperature--c\">31°</span><span class=\"wr-hide\"> </span><span class=\"wr-value--temperature--f\">88°</span></span></span>,\n",
       " <span class=\"wr-day-temperature__high-value\"><span class=\"wr-value--temperature\"><span class=\"wr-value--temperature--c\">31°</span><span class=\"wr-hide\"> </span><span class=\"wr-value--temperature--f\">87°</span></span></span>,\n",
       " <span class=\"wr-day-temperature__high-value\"><span class=\"wr-value--temperature\"><span class=\"wr-value--temperature--c\">31°</span><span class=\"wr-hide\"> </span><span class=\"wr-value--temperature--f\">88°</span></span></span>,\n",
       " <span class=\"wr-day-temperature__high-value\"><span class=\"wr-value--temperature\"><span class=\"wr-value--temperature--c\">31°</span><span class=\"wr-hide\"> </span><span class=\"wr-value--temperature--f\">88°</span></span></span>]"
      ]
     },
     "execution_count": 8,
     "metadata": {},
     "output_type": "execute_result"
    }
   ],
   "source": [
    "daily_high_values = soup.find_all('span', attrs={'class': 'wr-day-temperature__high-value'}) # block-type: span; identifier type: class; and class name: wr-day-temperature__high-value \n",
    "daily_high_values"
   ]
  },
  {
   "cell_type": "code",
   "execution_count": 9,
   "metadata": {
    "colab": {
     "base_uri": "https://localhost:8080/"
    },
    "executionInfo": {
     "elapsed": 65,
     "status": "ok",
     "timestamp": 1667321213721,
     "user": {
      "displayName": "Mahesh Balan U",
      "userId": "03222065794003590393"
     },
     "user_tz": -330
    },
    "id": "FbTO53Oz9H3z",
    "outputId": "675701d5-aa0a-46b3-9a6f-a521466fc73a"
   },
   "outputs": [
    {
     "data": {
      "text/plain": [
       "[<span class=\"wr-day-temperature__low-value\"><span class=\"wr-value--temperature\"><span class=\"wr-value--temperature--c\">28°</span><span class=\"wr-hide\"> </span><span class=\"wr-value--temperature--f\">83°</span></span></span>,\n",
       " <span class=\"wr-day-temperature__low-value\"><span class=\"wr-value--temperature\"><span class=\"wr-value--temperature--c\">27°</span><span class=\"wr-hide\"> </span><span class=\"wr-value--temperature--f\">80°</span></span></span>,\n",
       " <span class=\"wr-day-temperature__low-value\"><span class=\"wr-value--temperature\"><span class=\"wr-value--temperature--c\">26°</span><span class=\"wr-hide\"> </span><span class=\"wr-value--temperature--f\">79°</span></span></span>,\n",
       " <span class=\"wr-day-temperature__low-value\"><span class=\"wr-value--temperature\"><span class=\"wr-value--temperature--c\">27°</span><span class=\"wr-hide\"> </span><span class=\"wr-value--temperature--f\">80°</span></span></span>,\n",
       " <span class=\"wr-day-temperature__low-value\"><span class=\"wr-value--temperature\"><span class=\"wr-value--temperature--c\">26°</span><span class=\"wr-hide\"> </span><span class=\"wr-value--temperature--f\">78°</span></span></span>,\n",
       " <span class=\"wr-day-temperature__low-value\"><span class=\"wr-value--temperature\"><span class=\"wr-value--temperature--c\">26°</span><span class=\"wr-hide\"> </span><span class=\"wr-value--temperature--f\">79°</span></span></span>,\n",
       " <span class=\"wr-day-temperature__low-value\"><span class=\"wr-value--temperature\"><span class=\"wr-value--temperature--c\">27°</span><span class=\"wr-hide\"> </span><span class=\"wr-value--temperature--f\">80°</span></span></span>,\n",
       " <span class=\"wr-day-temperature__low-value\"><span class=\"wr-value--temperature\"><span class=\"wr-value--temperature--c\">26°</span><span class=\"wr-hide\"> </span><span class=\"wr-value--temperature--f\">79°</span></span></span>,\n",
       " <span class=\"wr-day-temperature__low-value\"><span class=\"wr-value--temperature\"><span class=\"wr-value--temperature--c\">26°</span><span class=\"wr-hide\"> </span><span class=\"wr-value--temperature--f\">79°</span></span></span>,\n",
       " <span class=\"wr-day-temperature__low-value\"><span class=\"wr-value--temperature\"><span class=\"wr-value--temperature--c\">27°</span><span class=\"wr-hide\"> </span><span class=\"wr-value--temperature--f\">80°</span></span></span>,\n",
       " <span class=\"wr-day-temperature__low-value\"><span class=\"wr-value--temperature\"><span class=\"wr-value--temperature--c\">27°</span><span class=\"wr-hide\"> </span><span class=\"wr-value--temperature--f\">80°</span></span></span>,\n",
       " <span class=\"wr-day-temperature__low-value\"><span class=\"wr-value--temperature\"><span class=\"wr-value--temperature--c\">27°</span><span class=\"wr-hide\"> </span><span class=\"wr-value--temperature--f\">80°</span></span></span>,\n",
       " <span class=\"wr-day-temperature__low-value\"><span class=\"wr-value--temperature\"><span class=\"wr-value--temperature--c\">27°</span><span class=\"wr-hide\"> </span><span class=\"wr-value--temperature--f\">80°</span></span></span>,\n",
       " <span class=\"wr-day-temperature__low-value\"><span class=\"wr-value--temperature\"><span class=\"wr-value--temperature--c\">27°</span><span class=\"wr-hide\"> </span><span class=\"wr-value--temperature--f\">80°</span></span></span>]"
      ]
     },
     "execution_count": 9,
     "metadata": {},
     "output_type": "execute_result"
    }
   ],
   "source": [
    "daily_low_values  = soup.find_all('span', attrs={'class': 'wr-day-temperature__low-value'})\n",
    "daily_low_values"
   ]
  },
  {
   "cell_type": "markdown",
   "metadata": {
    "id": "vICLyU1gCCOI"
   },
   "source": []
  },
  {
   "cell_type": "code",
   "execution_count": 10,
   "metadata": {
    "colab": {
     "base_uri": "https://localhost:8080/"
    },
    "executionInfo": {
     "elapsed": 64,
     "status": "ok",
     "timestamp": 1667321213723,
     "user": {
      "displayName": "Mahesh Balan U",
      "userId": "03222065794003590393"
     },
     "user_tz": -330
    },
    "id": "UfxUo44x9H39",
    "outputId": "840120d2-53d1-43cf-fd19-2135f43cff21"
   },
   "outputs": [
    {
     "data": {
      "text/plain": [
       "<div class=\"wr-day-summary\"><div class=\"gel-wrap\"><span class=\"\">Thundery showers and light winds</span><span class=\"wr-hide\">Thundery showers and a gentle breeze</span><span class=\"wr-hide\">Thundery showers and a gentle breeze</span><span class=\"wr-hide\">Thundery showers and a gentle breeze</span><span class=\"wr-hide\">Thundery showers and a gentle breeze</span><span class=\"wr-hide\">Thundery showers and a moderate breeze</span><span class=\"wr-hide\">Thundery showers and a moderate breeze</span><span class=\"wr-hide\">Thundery showers and a moderate breeze</span><span class=\"wr-hide\">Thundery showers and a moderate breeze</span><span class=\"wr-hide\">Thundery showers and a moderate breeze</span><span class=\"wr-hide\">Thundery showers and a moderate breeze</span><span class=\"wr-hide\">Thundery showers and a moderate breeze</span><span class=\"wr-hide\">Thundery showers and a moderate breeze</span><span class=\"wr-hide\">Thundery showers and a moderate breeze</span></div></div>"
      ]
     },
     "execution_count": 10,
     "metadata": {},
     "output_type": "execute_result"
    }
   ],
   "source": [
    "daily_summary = soup.find('div', attrs={'class': 'wr-day-summary'})\n",
    "daily_summary"
   ]
  },
  {
   "cell_type": "code",
   "execution_count": 11,
   "metadata": {
    "colab": {
     "base_uri": "https://localhost:8080/",
     "height": 89
    },
    "executionInfo": {
     "elapsed": 62,
     "status": "ok",
     "timestamp": 1667321213724,
     "user": {
      "displayName": "Mahesh Balan U",
      "userId": "03222065794003590393"
     },
     "user_tz": -330
    },
    "id": "JwcyXbeXBteI",
    "outputId": "3f73898e-14f0-4021-873a-2825ab046910"
   },
   "outputs": [
    {
     "data": {
      "text/plain": [
       "'Thundery showers and light windsThundery showers and a gentle breezeThundery showers and a gentle breezeThundery showers and a gentle breezeThundery showers and a gentle breezeThundery showers and a moderate breezeThundery showers and a moderate breezeThundery showers and a moderate breezeThundery showers and a moderate breezeThundery showers and a moderate breezeThundery showers and a moderate breezeThundery showers and a moderate breezeThundery showers and a moderate breezeThundery showers and a moderate breeze'"
      ]
     },
     "execution_count": 11,
     "metadata": {},
     "output_type": "execute_result"
    }
   ],
   "source": [
    "daily_summary.text"
   ]
  },
  {
   "cell_type": "markdown",
   "metadata": {
    "id": "FzJy2U7M9H4h"
   },
   "source": [
    "General book keeping.\n",
    "\n",
    "With the code snippet in the cell above, we get forecast data for 14 days, including today. We will now post process the data to first extract the required information/text and discard all the html wrapper code, then combine all variables into one common list, and finally convert it into a pandas data frame."
   ]
  },
  {
   "cell_type": "code",
   "execution_count": 12,
   "metadata": {
    "colab": {
     "base_uri": "https://localhost:8080/",
     "height": 35
    },
    "executionInfo": {
     "elapsed": 62,
     "status": "ok",
     "timestamp": 1667321213725,
     "user": {
      "displayName": "Mahesh Balan U",
      "userId": "03222065794003590393"
     },
     "user_tz": -330
    },
    "id": "wYXfNscP9H4p",
    "outputId": "900825f3-719b-420c-b9db-24d3706e8a36"
   },
   "outputs": [
    {
     "data": {
      "text/plain": [
       "'31° 89°'"
      ]
     },
     "execution_count": 12,
     "metadata": {},
     "output_type": "execute_result"
    }
   ],
   "source": [
    "daily_high_values[0].text.strip()"
   ]
  },
  {
   "cell_type": "code",
   "execution_count": 13,
   "metadata": {
    "colab": {
     "base_uri": "https://localhost:8080/",
     "height": 35
    },
    "executionInfo": {
     "elapsed": 63,
     "status": "ok",
     "timestamp": 1667321213727,
     "user": {
      "displayName": "Mahesh Balan U",
      "userId": "03222065794003590393"
     },
     "user_tz": -330
    },
    "id": "Jy0EG4o09H4v",
    "outputId": "133aa50f-5d2b-43d1-c241-c09fd517366c"
   },
   "outputs": [
    {
     "data": {
      "text/plain": [
       "'29° 85°'"
      ]
     },
     "execution_count": 13,
     "metadata": {},
     "output_type": "execute_result"
    }
   ],
   "source": [
    "daily_high_values[5].text.strip()"
   ]
  },
  {
   "cell_type": "code",
   "execution_count": 14,
   "metadata": {
    "colab": {
     "base_uri": "https://localhost:8080/",
     "height": 35
    },
    "executionInfo": {
     "elapsed": 63,
     "status": "ok",
     "timestamp": 1667321213729,
     "user": {
      "displayName": "Mahesh Balan U",
      "userId": "03222065794003590393"
     },
     "user_tz": -330
    },
    "id": "EpYaNjJn9H4v",
    "outputId": "93d206ca-6b1e-4b72-e71b-a28c2763d4f8"
   },
   "outputs": [
    {
     "data": {
      "text/plain": [
       "'31°'"
      ]
     },
     "execution_count": 14,
     "metadata": {},
     "output_type": "execute_result"
    }
   ],
   "source": [
    "daily_high_values[0].text.strip().split()[0]"
   ]
  },
  {
   "cell_type": "code",
   "execution_count": 15,
   "metadata": {
    "colab": {
     "base_uri": "https://localhost:8080/"
    },
    "executionInfo": {
     "elapsed": 62,
     "status": "ok",
     "timestamp": 1667321213729,
     "user": {
      "displayName": "Mahesh Balan U",
      "userId": "03222065794003590393"
     },
     "user_tz": -330
    },
    "id": "uvBbV5AT9H40",
    "outputId": "6879e675-1a21-4788-899b-21ec373b040f"
   },
   "outputs": [
    {
     "data": {
      "text/plain": [
       "['31°',\n",
       " '31°',\n",
       " '29°',\n",
       " '29°',\n",
       " '28°',\n",
       " '29°',\n",
       " '30°',\n",
       " '30°',\n",
       " '31°',\n",
       " '31°',\n",
       " '31°',\n",
       " '31°',\n",
       " '31°']"
      ]
     },
     "execution_count": 15,
     "metadata": {},
     "output_type": "execute_result"
    }
   ],
   "source": [
    "daily_high_values_list = [daily_high_values[i].text.strip().split()[0] for i in range(len(daily_high_values))]\n",
    "daily_high_values_list"
   ]
  },
  {
   "cell_type": "code",
   "execution_count": 16,
   "metadata": {
    "colab": {
     "base_uri": "https://localhost:8080/"
    },
    "executionInfo": {
     "elapsed": 60,
     "status": "ok",
     "timestamp": 1667321213730,
     "user": {
      "displayName": "Mahesh Balan U",
      "userId": "03222065794003590393"
     },
     "user_tz": -330
    },
    "id": "cOafAXHZ9H45",
    "outputId": "102d0276-6b07-4922-ca21-87d7ed585cf1"
   },
   "outputs": [
    {
     "data": {
      "text/plain": [
       "['28°',\n",
       " '27°',\n",
       " '26°',\n",
       " '27°',\n",
       " '26°',\n",
       " '26°',\n",
       " '27°',\n",
       " '26°',\n",
       " '26°',\n",
       " '27°',\n",
       " '27°',\n",
       " '27°',\n",
       " '27°',\n",
       " '27°']"
      ]
     },
     "execution_count": 16,
     "metadata": {},
     "output_type": "execute_result"
    }
   ],
   "source": [
    "daily_low_values_list = [daily_low_values[i].text.strip().split()[0] for i in range(len(daily_low_values))]\n",
    "daily_low_values_list"
   ]
  },
  {
   "cell_type": "code",
   "execution_count": 17,
   "metadata": {
    "colab": {
     "base_uri": "https://localhost:8080/",
     "height": 89
    },
    "executionInfo": {
     "elapsed": 59,
     "status": "ok",
     "timestamp": 1667321213731,
     "user": {
      "displayName": "Mahesh Balan U",
      "userId": "03222065794003590393"
     },
     "user_tz": -330
    },
    "id": "r_2FDTPX9H5Z",
    "outputId": "068496cb-6f73-472f-e200-cc8503cffd0e"
   },
   "outputs": [
    {
     "data": {
      "text/plain": [
       "'Thundery showers and light windsThundery showers and a gentle breezeThundery showers and a gentle breezeThundery showers and a gentle breezeThundery showers and a gentle breezeThundery showers and a moderate breezeThundery showers and a moderate breezeThundery showers and a moderate breezeThundery showers and a moderate breezeThundery showers and a moderate breezeThundery showers and a moderate breezeThundery showers and a moderate breezeThundery showers and a moderate breezeThundery showers and a moderate breeze'"
      ]
     },
     "execution_count": 17,
     "metadata": {},
     "output_type": "execute_result"
    }
   ],
   "source": [
    "daily_summary.text"
   ]
  },
  {
   "cell_type": "code",
   "execution_count": 16,
   "metadata": {
    "colab": {
     "base_uri": "https://localhost:8080/"
    },
    "executionInfo": {
     "elapsed": 1423,
     "status": "ok",
     "timestamp": 1667321215096,
     "user": {
      "displayName": "Mahesh Balan U",
      "userId": "03222065794003590393"
     },
     "user_tz": -330
    },
    "id": "NAFzsNuB9H5j",
    "outputId": "6d3c97b7-28f6-4955-ffd9-5e927bda7a86"
   },
   "outputs": [
    {
     "data": {
      "text/plain": [
       "['A clear sky and light winds',\n",
       " 'Sunny intervals and a gentle breeze',\n",
       " 'Sunny and a gentle breeze',\n",
       " 'Sunny and a gentle breeze',\n",
       " 'Sunny and a gentle breeze',\n",
       " 'Sunny intervals and a gentle breeze',\n",
       " 'Sunny intervals and a gentle breeze',\n",
       " 'Sunny intervals and a gentle breeze',\n",
       " 'Sunny intervals and a gentle breeze',\n",
       " 'Sunny intervals and a gentle breeze',\n",
       " 'Sunny intervals and a gentle breeze',\n",
       " 'Sunny intervals and a gentle breeze',\n",
       " 'Sunny intervals and a gentle breeze',\n",
       " 'Sunny intervals and a gentle breeze']"
      ]
     },
     "execution_count": 16,
     "metadata": {},
     "output_type": "execute_result"
    }
   ],
   "source": [
    "daily_summary_list = re.findall('[a-zA-Z][^A-Z]*', daily_summary.text) #split the string on uppercase\n",
    "daily_summary_list"
   ]
  },
  {
   "cell_type": "code",
   "execution_count": 17,
   "metadata": {
    "colab": {
     "base_uri": "https://localhost:8080/"
    },
    "executionInfo": {
     "elapsed": 18,
     "status": "ok",
     "timestamp": 1667321215097,
     "user": {
      "displayName": "Mahesh Balan U",
      "userId": "03222065794003590393"
     },
     "user_tz": -330
    },
    "id": "WAcgJCLp9H5p",
    "outputId": "c9703f84-1b39-43fc-f947-830ad17b0353"
   },
   "outputs": [
    {
     "data": {
      "text/plain": [
       "[Timestamp('2022-11-01 16:46:53.482769', freq='D'),\n",
       " Timestamp('2022-11-02 16:46:53.482769', freq='D'),\n",
       " Timestamp('2022-11-03 16:46:53.482769', freq='D'),\n",
       " Timestamp('2022-11-04 16:46:53.482769', freq='D'),\n",
       " Timestamp('2022-11-05 16:46:53.482769', freq='D'),\n",
       " Timestamp('2022-11-06 16:46:53.482769', freq='D'),\n",
       " Timestamp('2022-11-07 16:46:53.482769', freq='D'),\n",
       " Timestamp('2022-11-08 16:46:53.482769', freq='D'),\n",
       " Timestamp('2022-11-09 16:46:53.482769', freq='D'),\n",
       " Timestamp('2022-11-10 16:46:53.482769', freq='D'),\n",
       " Timestamp('2022-11-11 16:46:53.482769', freq='D'),\n",
       " Timestamp('2022-11-12 16:46:53.482769', freq='D'),\n",
       " Timestamp('2022-11-13 16:46:53.482769', freq='D')]"
      ]
     },
     "execution_count": 17,
     "metadata": {},
     "output_type": "execute_result"
    }
   ],
   "source": [
    "datelist = pd.date_range(datetime.today(), periods=len(daily_high_values)).tolist()\n",
    "datelist"
   ]
  },
  {
   "cell_type": "code",
   "execution_count": 18,
   "metadata": {
    "colab": {
     "base_uri": "https://localhost:8080/"
    },
    "executionInfo": {
     "elapsed": 17,
     "status": "ok",
     "timestamp": 1667321215097,
     "user": {
      "displayName": "Mahesh Balan U",
      "userId": "03222065794003590393"
     },
     "user_tz": -330
    },
    "id": "txU3R5wX9H5v",
    "outputId": "e501213d-0e5f-4f79-da34-923370f835c1"
   },
   "outputs": [
    {
     "data": {
      "text/plain": [
       "['22-11-01',\n",
       " '22-11-02',\n",
       " '22-11-03',\n",
       " '22-11-04',\n",
       " '22-11-05',\n",
       " '22-11-06',\n",
       " '22-11-07',\n",
       " '22-11-08',\n",
       " '22-11-09',\n",
       " '22-11-10',\n",
       " '22-11-11',\n",
       " '22-11-12',\n",
       " '22-11-13']"
      ]
     },
     "execution_count": 18,
     "metadata": {},
     "output_type": "execute_result"
    }
   ],
   "source": [
    "datelist = [datelist[i].date().strftime('%y-%m-%d') for i in range(len(datelist))]\n",
    "datelist"
   ]
  },
  {
   "cell_type": "code",
   "execution_count": 19,
   "metadata": {
    "executionInfo": {
     "elapsed": 15,
     "status": "ok",
     "timestamp": 1667321215097,
     "user": {
      "displayName": "Mahesh Balan U",
      "userId": "03222065794003590393"
     },
     "user_tz": -330
    },
    "id": "VSwi6b5v9H5v"
   },
   "outputs": [],
   "source": [
    "zipped = zip(datelist, daily_high_values_list, daily_low_values_list, daily_summary_list)"
   ]
  },
  {
   "cell_type": "code",
   "execution_count": 20,
   "metadata": {
    "executionInfo": {
     "elapsed": 15,
     "status": "ok",
     "timestamp": 1667321215098,
     "user": {
      "displayName": "Mahesh Balan U",
      "userId": "03222065794003590393"
     },
     "user_tz": -330
    },
    "id": "K5_Devru9H5v"
   },
   "outputs": [],
   "source": [
    "df = pd.DataFrame(list(zipped), columns=['Date', 'High','Low', 'Summary'])"
   ]
  },
  {
   "cell_type": "code",
   "execution_count": 21,
   "metadata": {
    "colab": {
     "base_uri": "https://localhost:8080/",
     "height": 457
    },
    "executionInfo": {
     "elapsed": 15,
     "status": "ok",
     "timestamp": 1667321215098,
     "user": {
      "displayName": "Mahesh Balan U",
      "userId": "03222065794003590393"
     },
     "user_tz": -330
    },
    "id": "VwaAs_HO9H5x",
    "outputId": "22d457a2-10b9-4bd1-8d92-017a50cd0047"
   },
   "outputs": [
    {
     "data": {
      "text/html": [
       "\n",
       "  <div id=\"df-7c63fc3e-78d2-47e1-9383-5ef64369e585\">\n",
       "    <div class=\"colab-df-container\">\n",
       "      <div>\n",
       "<style scoped>\n",
       "    .dataframe tbody tr th:only-of-type {\n",
       "        vertical-align: middle;\n",
       "    }\n",
       "\n",
       "    .dataframe tbody tr th {\n",
       "        vertical-align: top;\n",
       "    }\n",
       "\n",
       "    .dataframe thead th {\n",
       "        text-align: right;\n",
       "    }\n",
       "</style>\n",
       "<table border=\"1\" class=\"dataframe\">\n",
       "  <thead>\n",
       "    <tr style=\"text-align: right;\">\n",
       "      <th></th>\n",
       "      <th>Date</th>\n",
       "      <th>High</th>\n",
       "      <th>Low</th>\n",
       "      <th>Summary</th>\n",
       "    </tr>\n",
       "  </thead>\n",
       "  <tbody>\n",
       "    <tr>\n",
       "      <th>0</th>\n",
       "      <td>22-11-01</td>\n",
       "      <td>33°</td>\n",
       "      <td>22°</td>\n",
       "      <td>A clear sky and light winds</td>\n",
       "    </tr>\n",
       "    <tr>\n",
       "      <th>1</th>\n",
       "      <td>22-11-02</td>\n",
       "      <td>34°</td>\n",
       "      <td>22°</td>\n",
       "      <td>Sunny intervals and a gentle breeze</td>\n",
       "    </tr>\n",
       "    <tr>\n",
       "      <th>2</th>\n",
       "      <td>22-11-03</td>\n",
       "      <td>34°</td>\n",
       "      <td>22°</td>\n",
       "      <td>Sunny and a gentle breeze</td>\n",
       "    </tr>\n",
       "    <tr>\n",
       "      <th>3</th>\n",
       "      <td>22-11-04</td>\n",
       "      <td>34°</td>\n",
       "      <td>22°</td>\n",
       "      <td>Sunny and a gentle breeze</td>\n",
       "    </tr>\n",
       "    <tr>\n",
       "      <th>4</th>\n",
       "      <td>22-11-05</td>\n",
       "      <td>34°</td>\n",
       "      <td>22°</td>\n",
       "      <td>Sunny and a gentle breeze</td>\n",
       "    </tr>\n",
       "    <tr>\n",
       "      <th>5</th>\n",
       "      <td>22-11-06</td>\n",
       "      <td>34°</td>\n",
       "      <td>23°</td>\n",
       "      <td>Sunny intervals and a gentle breeze</td>\n",
       "    </tr>\n",
       "    <tr>\n",
       "      <th>6</th>\n",
       "      <td>22-11-07</td>\n",
       "      <td>33°</td>\n",
       "      <td>23°</td>\n",
       "      <td>Sunny intervals and a gentle breeze</td>\n",
       "    </tr>\n",
       "    <tr>\n",
       "      <th>7</th>\n",
       "      <td>22-11-08</td>\n",
       "      <td>33°</td>\n",
       "      <td>23°</td>\n",
       "      <td>Sunny intervals and a gentle breeze</td>\n",
       "    </tr>\n",
       "    <tr>\n",
       "      <th>8</th>\n",
       "      <td>22-11-09</td>\n",
       "      <td>34°</td>\n",
       "      <td>24°</td>\n",
       "      <td>Sunny intervals and a gentle breeze</td>\n",
       "    </tr>\n",
       "    <tr>\n",
       "      <th>9</th>\n",
       "      <td>22-11-10</td>\n",
       "      <td>34°</td>\n",
       "      <td>24°</td>\n",
       "      <td>Sunny intervals and a gentle breeze</td>\n",
       "    </tr>\n",
       "    <tr>\n",
       "      <th>10</th>\n",
       "      <td>22-11-11</td>\n",
       "      <td>33°</td>\n",
       "      <td>23°</td>\n",
       "      <td>Sunny intervals and a gentle breeze</td>\n",
       "    </tr>\n",
       "    <tr>\n",
       "      <th>11</th>\n",
       "      <td>22-11-12</td>\n",
       "      <td>33°</td>\n",
       "      <td>23°</td>\n",
       "      <td>Sunny intervals and a gentle breeze</td>\n",
       "    </tr>\n",
       "    <tr>\n",
       "      <th>12</th>\n",
       "      <td>22-11-13</td>\n",
       "      <td>33°</td>\n",
       "      <td>23°</td>\n",
       "      <td>Sunny intervals and a gentle breeze</td>\n",
       "    </tr>\n",
       "  </tbody>\n",
       "</table>\n",
       "</div>\n",
       "      <button class=\"colab-df-convert\" onclick=\"convertToInteractive('df-7c63fc3e-78d2-47e1-9383-5ef64369e585')\"\n",
       "              title=\"Convert this dataframe to an interactive table.\"\n",
       "              style=\"display:none;\">\n",
       "        \n",
       "  <svg xmlns=\"http://www.w3.org/2000/svg\" height=\"24px\"viewBox=\"0 0 24 24\"\n",
       "       width=\"24px\">\n",
       "    <path d=\"M0 0h24v24H0V0z\" fill=\"none\"/>\n",
       "    <path d=\"M18.56 5.44l.94 2.06.94-2.06 2.06-.94-2.06-.94-.94-2.06-.94 2.06-2.06.94zm-11 1L8.5 8.5l.94-2.06 2.06-.94-2.06-.94L8.5 2.5l-.94 2.06-2.06.94zm10 10l.94 2.06.94-2.06 2.06-.94-2.06-.94-.94-2.06-.94 2.06-2.06.94z\"/><path d=\"M17.41 7.96l-1.37-1.37c-.4-.4-.92-.59-1.43-.59-.52 0-1.04.2-1.43.59L10.3 9.45l-7.72 7.72c-.78.78-.78 2.05 0 2.83L4 21.41c.39.39.9.59 1.41.59.51 0 1.02-.2 1.41-.59l7.78-7.78 2.81-2.81c.8-.78.8-2.07 0-2.86zM5.41 20L4 18.59l7.72-7.72 1.47 1.35L5.41 20z\"/>\n",
       "  </svg>\n",
       "      </button>\n",
       "      \n",
       "  <style>\n",
       "    .colab-df-container {\n",
       "      display:flex;\n",
       "      flex-wrap:wrap;\n",
       "      gap: 12px;\n",
       "    }\n",
       "\n",
       "    .colab-df-convert {\n",
       "      background-color: #E8F0FE;\n",
       "      border: none;\n",
       "      border-radius: 50%;\n",
       "      cursor: pointer;\n",
       "      display: none;\n",
       "      fill: #1967D2;\n",
       "      height: 32px;\n",
       "      padding: 0 0 0 0;\n",
       "      width: 32px;\n",
       "    }\n",
       "\n",
       "    .colab-df-convert:hover {\n",
       "      background-color: #E2EBFA;\n",
       "      box-shadow: 0px 1px 2px rgba(60, 64, 67, 0.3), 0px 1px 3px 1px rgba(60, 64, 67, 0.15);\n",
       "      fill: #174EA6;\n",
       "    }\n",
       "\n",
       "    [theme=dark] .colab-df-convert {\n",
       "      background-color: #3B4455;\n",
       "      fill: #D2E3FC;\n",
       "    }\n",
       "\n",
       "    [theme=dark] .colab-df-convert:hover {\n",
       "      background-color: #434B5C;\n",
       "      box-shadow: 0px 1px 3px 1px rgba(0, 0, 0, 0.15);\n",
       "      filter: drop-shadow(0px 1px 2px rgba(0, 0, 0, 0.3));\n",
       "      fill: #FFFFFF;\n",
       "    }\n",
       "  </style>\n",
       "\n",
       "      <script>\n",
       "        const buttonEl =\n",
       "          document.querySelector('#df-7c63fc3e-78d2-47e1-9383-5ef64369e585 button.colab-df-convert');\n",
       "        buttonEl.style.display =\n",
       "          google.colab.kernel.accessAllowed ? 'block' : 'none';\n",
       "\n",
       "        async function convertToInteractive(key) {\n",
       "          const element = document.querySelector('#df-7c63fc3e-78d2-47e1-9383-5ef64369e585');\n",
       "          const dataTable =\n",
       "            await google.colab.kernel.invokeFunction('convertToInteractive',\n",
       "                                                     [key], {});\n",
       "          if (!dataTable) return;\n",
       "\n",
       "          const docLinkHtml = 'Like what you see? Visit the ' +\n",
       "            '<a target=\"_blank\" href=https://colab.research.google.com/notebooks/data_table.ipynb>data table notebook</a>'\n",
       "            + ' to learn more about interactive tables.';\n",
       "          element.innerHTML = '';\n",
       "          dataTable['output_type'] = 'display_data';\n",
       "          await google.colab.output.renderOutput(dataTable, element);\n",
       "          const docLink = document.createElement('div');\n",
       "          docLink.innerHTML = docLinkHtml;\n",
       "          element.appendChild(docLink);\n",
       "        }\n",
       "      </script>\n",
       "    </div>\n",
       "  </div>\n",
       "  "
      ],
      "text/plain": [
       "        Date High  Low                              Summary\n",
       "0   22-11-01  33°  22°          A clear sky and light winds\n",
       "1   22-11-02  34°  22°  Sunny intervals and a gentle breeze\n",
       "2   22-11-03  34°  22°            Sunny and a gentle breeze\n",
       "3   22-11-04  34°  22°            Sunny and a gentle breeze\n",
       "4   22-11-05  34°  22°            Sunny and a gentle breeze\n",
       "5   22-11-06  34°  23°  Sunny intervals and a gentle breeze\n",
       "6   22-11-07  33°  23°  Sunny intervals and a gentle breeze\n",
       "7   22-11-08  33°  23°  Sunny intervals and a gentle breeze\n",
       "8   22-11-09  34°  24°  Sunny intervals and a gentle breeze\n",
       "9   22-11-10  34°  24°  Sunny intervals and a gentle breeze\n",
       "10  22-11-11  33°  23°  Sunny intervals and a gentle breeze\n",
       "11  22-11-12  33°  23°  Sunny intervals and a gentle breeze\n",
       "12  22-11-13  33°  23°  Sunny intervals and a gentle breeze"
      ]
     },
     "metadata": {},
     "output_type": "display_data"
    }
   ],
   "source": [
    "display(df)"
   ]
  },
  {
   "cell_type": "code",
   "execution_count": 22,
   "metadata": {
    "executionInfo": {
     "elapsed": 15,
     "status": "ok",
     "timestamp": 1667321215099,
     "user": {
      "displayName": "Mahesh Balan U",
      "userId": "03222065794003590393"
     },
     "user_tz": -330
    },
    "id": "eNrnI0LA9H51"
   },
   "outputs": [],
   "source": [
    "# remove the 'degree' character\n",
    "df.High = df.High.replace('\\°','',regex=True).astype(float)\n",
    "df.Low  = df.Low.replace('\\°','',regex=True).astype(float)"
   ]
  },
  {
   "cell_type": "code",
   "execution_count": 23,
   "metadata": {
    "colab": {
     "base_uri": "https://localhost:8080/",
     "height": 457
    },
    "executionInfo": {
     "elapsed": 14,
     "status": "ok",
     "timestamp": 1667321215099,
     "user": {
      "displayName": "Mahesh Balan U",
      "userId": "03222065794003590393"
     },
     "user_tz": -330
    },
    "id": "OYhZw1VV9H54",
    "outputId": "fc9e8194-e503-4bad-c2cf-0ec503dc2dbd"
   },
   "outputs": [
    {
     "data": {
      "text/html": [
       "\n",
       "  <div id=\"df-65c5f34e-3023-454c-8d72-3db1eda61e0f\">\n",
       "    <div class=\"colab-df-container\">\n",
       "      <div>\n",
       "<style scoped>\n",
       "    .dataframe tbody tr th:only-of-type {\n",
       "        vertical-align: middle;\n",
       "    }\n",
       "\n",
       "    .dataframe tbody tr th {\n",
       "        vertical-align: top;\n",
       "    }\n",
       "\n",
       "    .dataframe thead th {\n",
       "        text-align: right;\n",
       "    }\n",
       "</style>\n",
       "<table border=\"1\" class=\"dataframe\">\n",
       "  <thead>\n",
       "    <tr style=\"text-align: right;\">\n",
       "      <th></th>\n",
       "      <th>Date</th>\n",
       "      <th>High</th>\n",
       "      <th>Low</th>\n",
       "      <th>Summary</th>\n",
       "    </tr>\n",
       "  </thead>\n",
       "  <tbody>\n",
       "    <tr>\n",
       "      <th>0</th>\n",
       "      <td>22-11-01</td>\n",
       "      <td>33.0</td>\n",
       "      <td>22.0</td>\n",
       "      <td>A clear sky and light winds</td>\n",
       "    </tr>\n",
       "    <tr>\n",
       "      <th>1</th>\n",
       "      <td>22-11-02</td>\n",
       "      <td>34.0</td>\n",
       "      <td>22.0</td>\n",
       "      <td>Sunny intervals and a gentle breeze</td>\n",
       "    </tr>\n",
       "    <tr>\n",
       "      <th>2</th>\n",
       "      <td>22-11-03</td>\n",
       "      <td>34.0</td>\n",
       "      <td>22.0</td>\n",
       "      <td>Sunny and a gentle breeze</td>\n",
       "    </tr>\n",
       "    <tr>\n",
       "      <th>3</th>\n",
       "      <td>22-11-04</td>\n",
       "      <td>34.0</td>\n",
       "      <td>22.0</td>\n",
       "      <td>Sunny and a gentle breeze</td>\n",
       "    </tr>\n",
       "    <tr>\n",
       "      <th>4</th>\n",
       "      <td>22-11-05</td>\n",
       "      <td>34.0</td>\n",
       "      <td>22.0</td>\n",
       "      <td>Sunny and a gentle breeze</td>\n",
       "    </tr>\n",
       "    <tr>\n",
       "      <th>5</th>\n",
       "      <td>22-11-06</td>\n",
       "      <td>34.0</td>\n",
       "      <td>23.0</td>\n",
       "      <td>Sunny intervals and a gentle breeze</td>\n",
       "    </tr>\n",
       "    <tr>\n",
       "      <th>6</th>\n",
       "      <td>22-11-07</td>\n",
       "      <td>33.0</td>\n",
       "      <td>23.0</td>\n",
       "      <td>Sunny intervals and a gentle breeze</td>\n",
       "    </tr>\n",
       "    <tr>\n",
       "      <th>7</th>\n",
       "      <td>22-11-08</td>\n",
       "      <td>33.0</td>\n",
       "      <td>23.0</td>\n",
       "      <td>Sunny intervals and a gentle breeze</td>\n",
       "    </tr>\n",
       "    <tr>\n",
       "      <th>8</th>\n",
       "      <td>22-11-09</td>\n",
       "      <td>34.0</td>\n",
       "      <td>24.0</td>\n",
       "      <td>Sunny intervals and a gentle breeze</td>\n",
       "    </tr>\n",
       "    <tr>\n",
       "      <th>9</th>\n",
       "      <td>22-11-10</td>\n",
       "      <td>34.0</td>\n",
       "      <td>24.0</td>\n",
       "      <td>Sunny intervals and a gentle breeze</td>\n",
       "    </tr>\n",
       "    <tr>\n",
       "      <th>10</th>\n",
       "      <td>22-11-11</td>\n",
       "      <td>33.0</td>\n",
       "      <td>23.0</td>\n",
       "      <td>Sunny intervals and a gentle breeze</td>\n",
       "    </tr>\n",
       "    <tr>\n",
       "      <th>11</th>\n",
       "      <td>22-11-12</td>\n",
       "      <td>33.0</td>\n",
       "      <td>23.0</td>\n",
       "      <td>Sunny intervals and a gentle breeze</td>\n",
       "    </tr>\n",
       "    <tr>\n",
       "      <th>12</th>\n",
       "      <td>22-11-13</td>\n",
       "      <td>33.0</td>\n",
       "      <td>23.0</td>\n",
       "      <td>Sunny intervals and a gentle breeze</td>\n",
       "    </tr>\n",
       "  </tbody>\n",
       "</table>\n",
       "</div>\n",
       "      <button class=\"colab-df-convert\" onclick=\"convertToInteractive('df-65c5f34e-3023-454c-8d72-3db1eda61e0f')\"\n",
       "              title=\"Convert this dataframe to an interactive table.\"\n",
       "              style=\"display:none;\">\n",
       "        \n",
       "  <svg xmlns=\"http://www.w3.org/2000/svg\" height=\"24px\"viewBox=\"0 0 24 24\"\n",
       "       width=\"24px\">\n",
       "    <path d=\"M0 0h24v24H0V0z\" fill=\"none\"/>\n",
       "    <path d=\"M18.56 5.44l.94 2.06.94-2.06 2.06-.94-2.06-.94-.94-2.06-.94 2.06-2.06.94zm-11 1L8.5 8.5l.94-2.06 2.06-.94-2.06-.94L8.5 2.5l-.94 2.06-2.06.94zm10 10l.94 2.06.94-2.06 2.06-.94-2.06-.94-.94-2.06-.94 2.06-2.06.94z\"/><path d=\"M17.41 7.96l-1.37-1.37c-.4-.4-.92-.59-1.43-.59-.52 0-1.04.2-1.43.59L10.3 9.45l-7.72 7.72c-.78.78-.78 2.05 0 2.83L4 21.41c.39.39.9.59 1.41.59.51 0 1.02-.2 1.41-.59l7.78-7.78 2.81-2.81c.8-.78.8-2.07 0-2.86zM5.41 20L4 18.59l7.72-7.72 1.47 1.35L5.41 20z\"/>\n",
       "  </svg>\n",
       "      </button>\n",
       "      \n",
       "  <style>\n",
       "    .colab-df-container {\n",
       "      display:flex;\n",
       "      flex-wrap:wrap;\n",
       "      gap: 12px;\n",
       "    }\n",
       "\n",
       "    .colab-df-convert {\n",
       "      background-color: #E8F0FE;\n",
       "      border: none;\n",
       "      border-radius: 50%;\n",
       "      cursor: pointer;\n",
       "      display: none;\n",
       "      fill: #1967D2;\n",
       "      height: 32px;\n",
       "      padding: 0 0 0 0;\n",
       "      width: 32px;\n",
       "    }\n",
       "\n",
       "    .colab-df-convert:hover {\n",
       "      background-color: #E2EBFA;\n",
       "      box-shadow: 0px 1px 2px rgba(60, 64, 67, 0.3), 0px 1px 3px 1px rgba(60, 64, 67, 0.15);\n",
       "      fill: #174EA6;\n",
       "    }\n",
       "\n",
       "    [theme=dark] .colab-df-convert {\n",
       "      background-color: #3B4455;\n",
       "      fill: #D2E3FC;\n",
       "    }\n",
       "\n",
       "    [theme=dark] .colab-df-convert:hover {\n",
       "      background-color: #434B5C;\n",
       "      box-shadow: 0px 1px 3px 1px rgba(0, 0, 0, 0.15);\n",
       "      filter: drop-shadow(0px 1px 2px rgba(0, 0, 0, 0.3));\n",
       "      fill: #FFFFFF;\n",
       "    }\n",
       "  </style>\n",
       "\n",
       "      <script>\n",
       "        const buttonEl =\n",
       "          document.querySelector('#df-65c5f34e-3023-454c-8d72-3db1eda61e0f button.colab-df-convert');\n",
       "        buttonEl.style.display =\n",
       "          google.colab.kernel.accessAllowed ? 'block' : 'none';\n",
       "\n",
       "        async function convertToInteractive(key) {\n",
       "          const element = document.querySelector('#df-65c5f34e-3023-454c-8d72-3db1eda61e0f');\n",
       "          const dataTable =\n",
       "            await google.colab.kernel.invokeFunction('convertToInteractive',\n",
       "                                                     [key], {});\n",
       "          if (!dataTable) return;\n",
       "\n",
       "          const docLinkHtml = 'Like what you see? Visit the ' +\n",
       "            '<a target=\"_blank\" href=https://colab.research.google.com/notebooks/data_table.ipynb>data table notebook</a>'\n",
       "            + ' to learn more about interactive tables.';\n",
       "          element.innerHTML = '';\n",
       "          dataTable['output_type'] = 'display_data';\n",
       "          await google.colab.output.renderOutput(dataTable, element);\n",
       "          const docLink = document.createElement('div');\n",
       "          docLink.innerHTML = docLinkHtml;\n",
       "          element.appendChild(docLink);\n",
       "        }\n",
       "      </script>\n",
       "    </div>\n",
       "  </div>\n",
       "  "
      ],
      "text/plain": [
       "        Date  High   Low                              Summary\n",
       "0   22-11-01  33.0  22.0          A clear sky and light winds\n",
       "1   22-11-02  34.0  22.0  Sunny intervals and a gentle breeze\n",
       "2   22-11-03  34.0  22.0            Sunny and a gentle breeze\n",
       "3   22-11-04  34.0  22.0            Sunny and a gentle breeze\n",
       "4   22-11-05  34.0  22.0            Sunny and a gentle breeze\n",
       "5   22-11-06  34.0  23.0  Sunny intervals and a gentle breeze\n",
       "6   22-11-07  33.0  23.0  Sunny intervals and a gentle breeze\n",
       "7   22-11-08  33.0  23.0  Sunny intervals and a gentle breeze\n",
       "8   22-11-09  34.0  24.0  Sunny intervals and a gentle breeze\n",
       "9   22-11-10  34.0  24.0  Sunny intervals and a gentle breeze\n",
       "10  22-11-11  33.0  23.0  Sunny intervals and a gentle breeze\n",
       "11  22-11-12  33.0  23.0  Sunny intervals and a gentle breeze\n",
       "12  22-11-13  33.0  23.0  Sunny intervals and a gentle breeze"
      ]
     },
     "metadata": {},
     "output_type": "display_data"
    }
   ],
   "source": [
    "display(df)"
   ]
  },
  {
   "cell_type": "markdown",
   "metadata": {
    "id": "2nqnCZI79H56"
   },
   "source": [
    "Extract the name of the city for which data is gathered."
   ]
  },
  {
   "cell_type": "code",
   "execution_count": 24,
   "metadata": {
    "colab": {
     "base_uri": "https://localhost:8080/"
    },
    "executionInfo": {
     "elapsed": 13,
     "status": "ok",
     "timestamp": 1667321215099,
     "user": {
      "displayName": "Mahesh Balan U",
      "userId": "03222065794003590393"
     },
     "user_tz": -330
    },
    "id": "HkRuIj3d9H56",
    "outputId": "2f39ed27-52ea-4678-dd57-9bb19bad229e"
   },
   "outputs": [
    {
     "data": {
      "text/plain": [
       "['Mumbai', '-', 'Weather', 'warnings', 'issued']"
      ]
     },
     "execution_count": 24,
     "metadata": {},
     "output_type": "execute_result"
    }
   ],
   "source": [
    "#location = soup.find('div', attrs={'class':'wr-c-location'})\n",
    "location = soup.find('h1', attrs={'id':'wr-location-name-id'})\n",
    "location.text.split()"
   ]
  },
  {
   "cell_type": "code",
   "execution_count": 25,
   "metadata": {
    "executionInfo": {
     "elapsed": 10,
     "status": "ok",
     "timestamp": 1667321215099,
     "user": {
      "displayName": "Mahesh Balan U",
      "userId": "03222065794003590393"
     },
     "user_tz": -330
    },
    "id": "WLH8Rj8z9H56"
   },
   "outputs": [],
   "source": [
    "# create a recording\n",
    "filename_csv = location.text.split()[0]+'.csv'\n",
    "df.to_csv(filename_csv, index=None)"
   ]
  },
  {
   "cell_type": "code",
   "execution_count": 26,
   "metadata": {
    "executionInfo": {
     "elapsed": 11,
     "status": "ok",
     "timestamp": 1667321215100,
     "user": {
      "displayName": "Mahesh Balan U",
      "userId": "03222065794003590393"
     },
     "user_tz": -330
    },
    "id": "GgZEgrlh9H6B"
   },
   "outputs": [],
   "source": [
    "filename_xlsx = location.text.split()[0]+'.xlsx'\n",
    "df.to_excel(filename_xlsx)"
   ]
  },
  {
   "cell_type": "code",
   "execution_count": 26,
   "metadata": {
    "executionInfo": {
     "elapsed": 10,
     "status": "ok",
     "timestamp": 1667321215100,
     "user": {
      "displayName": "Mahesh Balan U",
      "userId": "03222065794003590393"
     },
     "user_tz": -330
    },
    "id": "lXrsKdXg8mJT"
   },
   "outputs": [],
   "source": []
  }
 ],
 "metadata": {
  "colab": {
   "collapsed_sections": [],
   "provenance": []
  },
  "kernelspec": {
   "display_name": "Python 3 (ipykernel)",
   "language": "python",
   "name": "python3"
  },
  "language_info": {
   "codemirror_mode": {
    "name": "ipython",
    "version": 3
   },
   "file_extension": ".py",
   "mimetype": "text/x-python",
   "name": "python",
   "nbconvert_exporter": "python",
   "pygments_lexer": "ipython3",
   "version": "3.11.4"
  }
 },
 "nbformat": 4,
 "nbformat_minor": 1
}
