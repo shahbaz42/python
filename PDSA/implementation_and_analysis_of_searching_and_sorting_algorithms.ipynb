{
  "cells": [
    {
      "cell_type": "markdown",
      "metadata": {
        "id": "view-in-github",
        "colab_type": "text"
      },
      "source": [
        "<a href=\"https://colab.research.google.com/github/shahbaz42/python/blob/main/implementation_and_analysis_of_searching_and_sorting_algorithms.ipynb\" target=\"_parent\"><img src=\"https://colab.research.google.com/assets/colab-badge.svg\" alt=\"Open In Colab\"/></a>"
      ]
    },
    {
      "cell_type": "markdown",
      "metadata": {
        "id": "bvzwd5SvsZ9M"
      },
      "source": [
        "# Searching and Sorting"
      ]
    },
    {
      "cell_type": "markdown",
      "metadata": {
        "id": "HafrRO7osZ9N"
      },
      "source": [
        "### Setup\n",
        "- Set up `Timer` class to time executions"
      ]
    },
    {
      "cell_type": "code",
      "execution_count": 1,
      "metadata": {
        "id": "FX-LCujtXSyH"
      },
      "outputs": [],
      "source": [
        "import time\n",
        "\n",
        "class TimerError(Exception):\n",
        "    \"\"\"A custom exception used to report errors in use of Timer class\"\"\"\n",
        "\n",
        "class Timer:\n",
        "    def __init__(self):\n",
        "        self._start_time = None\n",
        "        self._elapsed_time = None\n",
        "\n",
        "    def start(self):\n",
        "        \"\"\"Start a new timer\"\"\"\n",
        "        if self._start_time is not None:\n",
        "            raise TimerError(\"Timer is running. Use .stop()\")\n",
        "        self._start_time = time.perf_counter()\n",
        "\n",
        "    def stop(self):\n",
        "        \"\"\"Save the elapsed time and re-initialize timer\"\"\"\n",
        "        if self._start_time is None:\n",
        "           raise TimerError(\"Timer is not running. Use .start()\")\n",
        "        self._elapsed_time = time.perf_counter() - self._start_time\n",
        "        self._start_time = None\n",
        "\n",
        "    def elapsed(self):\n",
        "        \"\"\"Report elapsed time\"\"\"\n",
        "        if self._elapsed_time is None:\n",
        "           raise TimerError(\"Timer has not been run yet. Use .start()\")\n",
        "        return(self._elapsed_time)\n",
        "\n",
        "    def __str__(self):\n",
        "        \"\"\"print() prints elapsed time\"\"\"\n",
        "        return(str(self._elapsed_time))"
      ]
    },
    {
      "cell_type": "markdown",
      "metadata": {
        "id": "HREqZFVosZ9R"
      },
      "source": [
        "### Naive search by scanning the list"
      ]
    },
    {
      "cell_type": "code",
      "execution_count": 2,
      "metadata": {
        "id": "Nh0Rt2ztm4nL"
      },
      "outputs": [],
      "source": [
        "def naivesearch(v,l):\n",
        "  for x in l:\n",
        "    if v == x:\n",
        "      return(True)\n",
        "  return(False)"
      ]
    },
    {
      "cell_type": "markdown",
      "metadata": {
        "id": "_I_Kwq5RsZ9S"
      },
      "source": [
        "### Binary search"
      ]
    },
    {
      "cell_type": "code",
      "execution_count": 3,
      "metadata": {
        "id": "9tDWAhyUnA7K"
      },
      "outputs": [],
      "source": [
        "def binarysearch(v,l):\n",
        "  if l == []:\n",
        "    return(False)\n",
        "\n",
        "  m = len(l)//2\n",
        "\n",
        "  if v == l[m]:\n",
        "    return(True)\n",
        "\n",
        "  if v < l[m]:\n",
        "    return(binarysearch(v,l[:m]))\n",
        "  else:\n",
        "    return(binarysearch(v,l[m+1:]))"
      ]
    },
    {
      "cell_type": "markdown",
      "metadata": {
        "id": "4Psd7PytsZ9U"
      },
      "source": [
        "### Checking correctness on input `[0,2,...,50]`"
      ]
    },
    {
      "cell_type": "code",
      "execution_count": 4,
      "metadata": {
        "colab": {
          "base_uri": "https://localhost:8080/"
        },
        "id": "Z20emTJ9sZ9V",
        "outputId": "071bc4df-1045-40a5-9986-d8abdc4e309d"
      },
      "outputs": [
        {
          "output_type": "stream",
          "name": "stdout",
          "text": [
            "(0, True),(1, False),(2, True),(3, False),(4, True),(5, False),(6, True),(7, False),(8, True),(9, False),(10, True),(11, False),(12, True),(13, False),(14, True),(15, False),(16, True),(17, False),(18, True),(19, False),(20, True),(21, False),(22, True),(23, False),(24, True),(25, False),(26, True),(27, False),(28, True),(29, False),(30, True),(31, False),(32, True),(33, False),(34, True),(35, False),(36, True),(37, False),(38, True),(39, False),(40, True),(41, False),(42, True),(43, False),(44, True),(45, False),(46, True),(47, False),(48, True),(49, False),(50, True),\n",
            "(0, True),(1, False),(2, True),(3, False),(4, True),(5, False),(6, True),(7, False),(8, True),(9, False),(10, True),(11, False),(12, True),(13, False),(14, True),(15, False),(16, True),(17, False),(18, True),(19, False),(20, True),(21, False),(22, True),(23, False),(24, True),(25, False),(26, True),(27, False),(28, True),(29, False),(30, True),(31, False),(32, True),(33, False),(34, True),(35, False),(36, True),(37, False),(38, True),(39, False),(40, True),(41, False),(42, True),(43, False),(44, True),(45, False),(46, True),(47, False),(48, True),(49, False),(50, True),\n"
          ]
        }
      ],
      "source": [
        "l = list(range(0,51,2))\n",
        "\n",
        "for i in range(51):\n",
        "  print((i,naivesearch(i,l)),end=\",\")\n",
        "print()\n",
        "\n",
        "for i in range(51):\n",
        "  print((i,binarysearch(i,l)),end=\",\")\n",
        "print()"
      ]
    },
    {
      "cell_type": "markdown",
      "metadata": {
        "id": "FcsOBFTGsZ9V"
      },
      "source": [
        "### Performance comparison across $10^4$ worst case searches in a list of size $10^5$\n",
        "- Looking for odd numbers in a list of even numbers"
      ]
    },
    {
      "cell_type": "code",
      "execution_count": 5,
      "metadata": {
        "colab": {
          "base_uri": "https://localhost:8080/"
        },
        "id": "BlsFK6JdoC6L",
        "outputId": "0fbfe9b4-b150-4f96-a59c-02ed16831603"
      },
      "outputs": [
        {
          "output_type": "stream",
          "name": "stdout",
          "text": [
            "\n",
            "Naive search 9.879464549999994\n",
            "\n",
            "Binary search 0.8065788539999943\n"
          ]
        }
      ],
      "source": [
        "l = list(range(0,100000,2))\n",
        "t = Timer()\n",
        "t.start()\n",
        "for i in range(3001,13000,2):\n",
        "  v = naivesearch(i,l)\n",
        "t.stop()\n",
        "print()\n",
        "print(\"Naive search\", t)\n",
        "t.start()\n",
        "for i in range(3001,13000,2):\n",
        "  v = binarysearch(i,l)\n",
        "t.stop()\n",
        "print()\n",
        "print(\"Binary search\", t)"
      ]
    },
    {
      "cell_type": "markdown",
      "metadata": {
        "id": "IrkFYqxMsZ9W"
      },
      "source": [
        "### Selection sort"
      ]
    },
    {
      "cell_type": "code",
      "execution_count": 6,
      "metadata": {
        "id": "Xv8jrh12ouDC"
      },
      "outputs": [],
      "source": [
        "def selection_sort(L):\n",
        "    \"\"\"Sort a list of items in ascending order\"\"\"\n",
        "\n",
        "    n = len(L)\n",
        "    if n<1 :\n",
        "        return(L)\n",
        "        \n",
        "    for i in range(n):\n",
        "        # i = {0,1,2,3,4}\n",
        "        index = i\n",
        "        for j in range(i, n):\n",
        "            # j = {1,2,3,4}\n",
        "            if L[j] < L[index]:\n",
        "                index = j\n",
        "        #swap ith position with minimum\n",
        "        (L[i], L[index]) = (L[index], L[i])  \n",
        "\n",
        "    return L"
      ]
    },
    {
      "cell_type": "markdown",
      "metadata": {
        "id": "FAUrIDbtsZ9X"
      },
      "source": [
        "### Selection sort performance is more or less the same for all inputs"
      ]
    },
    {
      "cell_type": "code",
      "execution_count": 7,
      "metadata": {
        "colab": {
          "base_uri": "https://localhost:8080/"
        },
        "id": "FlOt-RwxoUvX",
        "outputId": "665dba9c-39c4-4f5e-f883-0b6295a31bdb"
      },
      "outputs": [
        {
          "output_type": "stream",
          "name": "stdout",
          "text": [
            "random 1.0273515160000102\n",
            "ascending 1.040812399999993\n",
            "descending 1.1153574589999948\n"
          ]
        }
      ],
      "source": [
        "import random\n",
        "random.seed(2021)\n",
        "inputlists = {}\n",
        "inputlists[\"random\"] = [random.randrange(100000) for i in range(5000)]\n",
        "inputlists[\"ascending\"] = [i for i in range(5000)]\n",
        "inputlists[\"descending\"] = [i for i in range (4999,-1,-1)]\n",
        "t = Timer()\n",
        "for k in inputlists.keys():\n",
        "    tmplist = inputlists[k][:]\n",
        "    t.start()\n",
        "    selection_sort(tmplist)\n",
        "    t.stop()\n",
        "    print(k,t)"
      ]
    },
    {
      "cell_type": "markdown",
      "metadata": {
        "id": "LZYEt3CMsZ9Y"
      },
      "source": [
        "### Insertion sort, iterative"
      ]
    },
    {
      "cell_type": "code",
      "execution_count": 8,
      "metadata": {
        "id": "7IU966hV-9Pn"
      },
      "outputs": [],
      "source": [
        "def insertion_sort(L):\n",
        "    \"\"\"\n",
        "        Iterative Insertion sort\n",
        "    \"\"\"\n",
        "    n = len(L)\n",
        "    if n<1:\n",
        "        return(L)\n",
        "\n",
        "    for i in range(n):\n",
        "        # Assume L[:i] is sorted\n",
        "        # Move L[i] to correct position in L[:i]\n",
        "        j = i\n",
        "        while (j>0 and L[j]<L[j-1]):\n",
        "            L[j-1], L[j] = L[j], L[j-1]\n",
        "            j = j-1\n",
        "        # Now L[:i+1] is sorted\n",
        "    return(L)"
      ]
    },
    {
      "cell_type": "markdown",
      "metadata": {
        "id": "BYq-qcbTsZ9Y"
      },
      "source": [
        "### Insertion sort preformance\n",
        "- On already sorted input, performance is very good\n",
        "- On reverse sorted input, performance is worse than selection sort"
      ]
    },
    {
      "cell_type": "code",
      "execution_count": 9,
      "metadata": {
        "colab": {
          "base_uri": "https://localhost:8080/"
        },
        "id": "P59KcaKM_CjK",
        "outputId": "7632348e-32a4-4e6c-ec59-3388690a4f30"
      },
      "outputs": [
        {
          "output_type": "stream",
          "name": "stdout",
          "text": [
            "random 2.1439092339999775\n",
            "ascending 0.0007312330000104339\n",
            "descending 4.2329641649999985\n"
          ]
        }
      ],
      "source": [
        "import random\n",
        "random.seed(2021)\n",
        "inputlists = {}\n",
        "inputlists[\"random\"] = [random.randrange(100000) for i in range(5000)]\n",
        "inputlists[\"ascending\"] = [i for i in range(5000)]\n",
        "inputlists[\"descending\"] = [i for i in range (4999,-1,-1)]\n",
        "t = Timer()\n",
        "for k in inputlists.keys():\n",
        "    tmplist = inputlists[k][:]\n",
        "    t.start()\n",
        "    insertion_sort(tmplist)\n",
        "    t.stop()\n",
        "    print(k,t)"
      ]
    },
    {
      "cell_type": "markdown",
      "metadata": {
        "id": "YgUP1eBLsZ9Z"
      },
      "source": [
        "### Insertion sort, recursive"
      ]
    },
    {
      "cell_type": "code",
      "execution_count": 10,
      "metadata": {
        "id": "cknMO2qA_ZFX"
      },
      "outputs": [],
      "source": [
        "def insert(sorted_L, v):\n",
        "    \"\"\"\n",
        "        This function inserts a value at its appropriate position in a sorted array.\n",
        "    \"\"\"\n",
        "    n = len(sorted_L)\n",
        "    # if length is 0 then simply return a singleton\n",
        "    if n == 0 :\n",
        "        return([v])\n",
        "    \n",
        "    #if last element of sorted_L is less than v then append at last and return\n",
        "    if sorted_L[-1] <= v :\n",
        "        sorted_L.append(v)\n",
        "        return sorted_L\n",
        "\n",
        "    # insert v in an array without last element \n",
        "    arr =  insert(sorted_L[:-1],v)\n",
        "\n",
        "    # do append the last element of the array before returning.\n",
        "    arr.append(sorted_L[-1])\n",
        "\n",
        "    return arr\n",
        "\n",
        "def insertion_sort_recursive(L):\n",
        "    \"\"\"\n",
        "        This function sorts a list using recursive insertion sort.\n",
        "    \"\"\"\n",
        "    n = len(L)\n",
        "    # if length of the list is 0 then return the list\n",
        "    if n < 1 :\n",
        "        return L\n",
        "    \n",
        "    # we know that insertion_sort_recursive will return sorted list\n",
        "    # and insert function will take a sorted list and an elemen and insert it to its appropriate place\n",
        "    # we can divide the array into and array of [n-1 elements], and sort the array of [n-1 elements]\n",
        "    # using insertion sort and insert last element using insert function.\n",
        "    return insert(insertion_sort_recursive(L[:-1]),L[-1])\n"
      ]
    },
    {
      "cell_type": "code",
      "execution_count": 11,
      "metadata": {
        "colab": {
          "base_uri": "https://localhost:8080/",
          "height": 380
        },
        "id": "2lCSbgVB3drw",
        "outputId": "ebecac26-5995-4849-ef23-e5d2eefddf7f"
      },
      "outputs": [
        {
          "output_type": "error",
          "ename": "RecursionError",
          "evalue": "ignored",
          "traceback": [
            "\u001b[0;31m---------------------------------------------------------------------------\u001b[0m",
            "\u001b[0;31mRecursionError\u001b[0m                            Traceback (most recent call last)",
            "\u001b[0;32m<ipython-input-11-58ba5b069582>\u001b[0m in \u001b[0;36m<module>\u001b[0;34m\u001b[0m\n\u001b[1;32m      9\u001b[0m     \u001b[0mtmplist\u001b[0m \u001b[0;34m=\u001b[0m \u001b[0minputlists\u001b[0m\u001b[0;34m[\u001b[0m\u001b[0mk\u001b[0m\u001b[0;34m]\u001b[0m\u001b[0;34m[\u001b[0m\u001b[0;34m:\u001b[0m\u001b[0;34m]\u001b[0m\u001b[0;34m\u001b[0m\u001b[0;34m\u001b[0m\u001b[0m\n\u001b[1;32m     10\u001b[0m     \u001b[0mt\u001b[0m\u001b[0;34m.\u001b[0m\u001b[0mstart\u001b[0m\u001b[0;34m(\u001b[0m\u001b[0;34m)\u001b[0m\u001b[0;34m\u001b[0m\u001b[0;34m\u001b[0m\u001b[0m\n\u001b[0;32m---> 11\u001b[0;31m     \u001b[0minsertion_sort_recursive\u001b[0m\u001b[0;34m(\u001b[0m\u001b[0mtmplist\u001b[0m\u001b[0;34m)\u001b[0m\u001b[0;34m\u001b[0m\u001b[0;34m\u001b[0m\u001b[0m\n\u001b[0m\u001b[1;32m     12\u001b[0m     \u001b[0mt\u001b[0m\u001b[0;34m.\u001b[0m\u001b[0mstop\u001b[0m\u001b[0;34m(\u001b[0m\u001b[0;34m)\u001b[0m\u001b[0;34m\u001b[0m\u001b[0;34m\u001b[0m\u001b[0m\n\u001b[1;32m     13\u001b[0m     \u001b[0mprint\u001b[0m\u001b[0;34m(\u001b[0m\u001b[0mk\u001b[0m\u001b[0;34m,\u001b[0m\u001b[0mt\u001b[0m\u001b[0;34m)\u001b[0m\u001b[0;34m\u001b[0m\u001b[0;34m\u001b[0m\u001b[0m\n",
            "\u001b[0;32m<ipython-input-10-10ea730c7171>\u001b[0m in \u001b[0;36minsertion_sort_recursive\u001b[0;34m(L)\u001b[0m\n\u001b[1;32m     34\u001b[0m     \u001b[0;31m# we can recursively divide the array into and array of [n-1 elements], and sort the array of [n-1 elements]\u001b[0m\u001b[0;34m\u001b[0m\u001b[0;34m\u001b[0m\u001b[0;34m\u001b[0m\u001b[0m\n\u001b[1;32m     35\u001b[0m     \u001b[0;31m# using insertion sort and insert last element using insert function.\u001b[0m\u001b[0;34m\u001b[0m\u001b[0;34m\u001b[0m\u001b[0;34m\u001b[0m\u001b[0m\n\u001b[0;32m---> 36\u001b[0;31m     \u001b[0;32mreturn\u001b[0m \u001b[0minsert\u001b[0m\u001b[0;34m(\u001b[0m\u001b[0minsertion_sort_recursive\u001b[0m\u001b[0;34m(\u001b[0m\u001b[0mL\u001b[0m\u001b[0;34m[\u001b[0m\u001b[0;34m:\u001b[0m\u001b[0;34m-\u001b[0m\u001b[0;36m1\u001b[0m\u001b[0;34m]\u001b[0m\u001b[0;34m)\u001b[0m\u001b[0;34m,\u001b[0m\u001b[0mL\u001b[0m\u001b[0;34m[\u001b[0m\u001b[0;34m-\u001b[0m\u001b[0;36m1\u001b[0m\u001b[0;34m]\u001b[0m\u001b[0;34m)\u001b[0m\u001b[0;34m\u001b[0m\u001b[0;34m\u001b[0m\u001b[0m\n\u001b[0m",
            "... last 1 frames repeated, from the frame below ...\n",
            "\u001b[0;32m<ipython-input-10-10ea730c7171>\u001b[0m in \u001b[0;36minsertion_sort_recursive\u001b[0;34m(L)\u001b[0m\n\u001b[1;32m     34\u001b[0m     \u001b[0;31m# we can recursively divide the array into and array of [n-1 elements], and sort the array of [n-1 elements]\u001b[0m\u001b[0;34m\u001b[0m\u001b[0;34m\u001b[0m\u001b[0;34m\u001b[0m\u001b[0m\n\u001b[1;32m     35\u001b[0m     \u001b[0;31m# using insertion sort and insert last element using insert function.\u001b[0m\u001b[0;34m\u001b[0m\u001b[0;34m\u001b[0m\u001b[0;34m\u001b[0m\u001b[0m\n\u001b[0;32m---> 36\u001b[0;31m     \u001b[0;32mreturn\u001b[0m \u001b[0minsert\u001b[0m\u001b[0;34m(\u001b[0m\u001b[0minsertion_sort_recursive\u001b[0m\u001b[0;34m(\u001b[0m\u001b[0mL\u001b[0m\u001b[0;34m[\u001b[0m\u001b[0;34m:\u001b[0m\u001b[0;34m-\u001b[0m\u001b[0;36m1\u001b[0m\u001b[0;34m]\u001b[0m\u001b[0;34m)\u001b[0m\u001b[0;34m,\u001b[0m\u001b[0mL\u001b[0m\u001b[0;34m[\u001b[0m\u001b[0;34m-\u001b[0m\u001b[0;36m1\u001b[0m\u001b[0;34m]\u001b[0m\u001b[0;34m)\u001b[0m\u001b[0;34m\u001b[0m\u001b[0;34m\u001b[0m\u001b[0m\n\u001b[0m",
            "\u001b[0;31mRecursionError\u001b[0m: maximum recursion depth exceeded while calling a Python object"
          ]
        }
      ],
      "source": [
        "import random\n",
        "random.seed(2021)\n",
        "inputlists = {}\n",
        "inputlists[\"random\"] = [random.randrange(100000) for i in range(5000)]\n",
        "inputlists[\"ascending\"] = [i for i in range(5000)]\n",
        "inputlists[\"descending\"] = [i for i in range (4999,-1,-1)]\n",
        "t = Timer()\n",
        "for k in inputlists.keys():\n",
        "    tmplist = inputlists[k][:]\n",
        "    t.start()\n",
        "    insertion_sort_recursive(tmplist)\n",
        "    t.stop()\n",
        "    print(k,t)"
      ]
    },
    {
      "cell_type": "markdown",
      "metadata": {
        "id": "UaZ2ymUs3Ioq"
      },
      "source": [
        "### Setup\n",
        "- Set recursion limit to maxint,  $2^{31}-1$\n",
        "    - This is the highest value Python allows\n"
      ]
    },
    {
      "cell_type": "code",
      "execution_count": 12,
      "metadata": {
        "id": "W7aahHWJ3Col"
      },
      "outputs": [],
      "source": [
        "import sys\n",
        "sys.setrecursionlimit(2**31-1)"
      ]
    },
    {
      "cell_type": "markdown",
      "metadata": {
        "id": "mOV6kW0ZsZ9a"
      },
      "source": [
        "### Recursive insertion sort is slower than iterative\n",
        "- Input of 2000 (40%) takes more time than 5000 for iterative\n",
        "  - Overhead of recursive calls\n",
        "- Performance pattern between unsorted, sorted and random is similar "
      ]
    },
    {
      "cell_type": "code",
      "execution_count": 13,
      "metadata": {
        "colab": {
          "base_uri": "https://localhost:8080/"
        },
        "id": "jtSsgZhV_ke1",
        "outputId": "185eb18f-657c-4667-dbf3-28c43172c4c8"
      },
      "outputs": [
        {
          "output_type": "stream",
          "name": "stdout",
          "text": [
            "random 8.131695621000006\n",
            "ascending 0.02327857799997446\n",
            "descending 14.358742795000012\n"
          ]
        }
      ],
      "source": [
        "import random\n",
        "random.seed(2021)\n",
        "\n",
        "inputlists = {}\n",
        "inputlists[\"random\"] = [random.randrange(100000) for i in range(2000)]\n",
        "inputlists[\"ascending\"] = [i for i in range(2000)]\n",
        "inputlists[\"descending\"] = [i for i in range (1999,-1,-1)]\n",
        "t = Timer()\n",
        "for k in inputlists.keys():\n",
        "    tmplist = inputlists[k][:]\n",
        "    t.start()\n",
        "    insertion_sort_recursive(tmplist)\n",
        "    t.stop()\n",
        "    print(k,t)"
      ]
    },
    {
      "cell_type": "markdown",
      "metadata": {
        "id": "ugj-kRXpsZ9b"
      },
      "source": [
        "### Merge sort"
      ]
    },
    {
      "cell_type": "code",
      "execution_count": 14,
      "metadata": {
        "id": "vjSICLy_s0-K"
      },
      "outputs": [],
      "source": [
        "def merge(A, B):\n",
        "    # let m and n represent sizes of A and B resp\n",
        "    (m, n) = (len(A), len(B))\n",
        "\n",
        "    # let C be the final array\n",
        "    # let i, j, k be the pointers for A, B, C respectively.\n",
        "    (C, i, j, k) = ([], 0, 0, 0)\n",
        "\n",
        "    while k < m+n :\n",
        "        # if A is empty then copy B into C and update marker\n",
        "        if i == m:\n",
        "            C.extend(B[j:])\n",
        "            k += (n-j)\n",
        "\n",
        "        # else if B is empty then copy A into C and update accordingly\n",
        "        elif j == n :\n",
        "            C.extend(A[i:])\n",
        "            k += (n-i)\n",
        "\n",
        "        # else build sorted C from A and B\n",
        "        elif A[i] < B[j]:\n",
        "            C.append(A[i])\n",
        "            (i, k) = (i+1, k+1)\n",
        "        \n",
        "        else: \n",
        "            C.append(B[j])\n",
        "            (j, k) = (j+1, k+1)\n",
        "\n",
        "    return C"
      ]
    },
    {
      "cell_type": "code",
      "execution_count": 15,
      "metadata": {
        "id": "YAAEaiRxs6Yu"
      },
      "outputs": [],
      "source": [
        "def merge_sort(A):\n",
        "    n = len(A)\n",
        "\n",
        "    # if length of the array is 1 ; The array is sorted return it as it is\n",
        "    if n == 1 :\n",
        "        return A\n",
        "\n",
        "    # else divide the array in two equal halved left and right\n",
        "    left = A[:n//2]\n",
        "    right = A[n//2:]\n",
        "\n",
        "    # sort left half and right half and return after merging both sorted arrays.\n",
        "    return merge(merge_sort(left), merge_sort(right))\n",
        " "
      ]
    },
    {
      "cell_type": "markdown",
      "metadata": {
        "id": "9gzgSw_DsZ9b"
      },
      "source": [
        "### A simple input to check correctness"
      ]
    },
    {
      "cell_type": "code",
      "execution_count": 17,
      "metadata": {
        "colab": {
          "base_uri": "https://localhost:8080/"
        },
        "id": "4UPyJKpTtOmN",
        "outputId": "8a470ffa-6fb2-44ce-b4a9-4c852cdd8ce2"
      },
      "outputs": [
        {
          "output_type": "stream",
          "name": "stdout",
          "text": [
            "0 1 2 3 4 5 6 7 8 9 10 11 12 13 14 15 16 17 18 19 20 21 22 23 24 25 26 27 28 29 30 31 32 33 34 35 36 37 38 39 40 41 42 43 44 45 46 47 48 49 50 51 52 53 54 55 56 57 58 59 60 61 62 63 64 65 66 67 68 69 70 71 72 73 74 75 76 77 78 79 80 81 82 83 84 85 86 87 88 89 90 91 92 93 94 95 96 97 98 99 100 101 102 103 104 105 106 107 108 109 110 111 112 113 114 115 116 117 118 119 120 121 122 123 124 125 126 127 128 129 130 131 132 133 134 135 136 137 138 139 140 141 142 143 144 145 146 147 148 149 150 151 152 153 154 155 156 157 158 159 160 161 162 163 164 165 166 167 168 169 170 171 172 173 174 175 176 177 178 179 180 181 182 183 184 185 186 187 188 189 190 191 192 193 194 195 196 197 198 199 200 201 202 203 204 205 206 207 208 209 210 211 212 213 214 215 216 217 218 219 220 221 222 223 224 225 226 227 228 229 230 231 232 233 234 235 236 237 238 239 240 241 242 243 244 245 246 247 248 249 250 251 252 253 254 255 256 257 258 259 260 261 262 263 264 265 266 267 268 269 270 271 272 273 274 275 276 277 278 279 280 281 282 283 284 285 286 287 288 289 290 291 292 293 294 295 296 297 298 299 300 301 302 303 304 305 306 307 308 309 310 311 312 313 314 315 316 317 318 319 320 321 322 323 324 325 326 327 328 329 330 331 332 333 334 335 336 337 338 339 340 341 342 343 344 345 346 347 348 349 350 351 352 353 354 355 356 357 358 359 360 361 362 363 364 365 366 367 368 369 370 371 372 373 374 375 376 377 378 379 380 381 382 383 384 385 386 387 388 389 390 391 392 393 394 395 396 397 398 399 400 401 402 403 404 405 406 407 408 409 410 411 412 413 414 415 416 417 418 419 420 421 422 423 424 425 426 427 428 429 430 431 432 433 434 435 436 437 438 439 440 441 442 443 444 445 446 447 448 449 450 451 452 453 454 455 456 457 458 459 460 461 462 463 464 465 466 467 468 469 470 471 472 473 474 475 476 477 478 479 480 481 482 483 484 485 486 487 488 489 490 491 492 493 494 495 496 497 498 499 500 501 502 503 504 505 506 507 508 509 510 511 512 513 514 515 516 517 518 519 520 521 522 523 524 525 526 527 528 529 530 531 532 533 534 535 536 537 538 539 540 541 542 543 544 545 546 547 548 549 550 551 552 553 554 555 556 557 558 559 560 561 562 563 564 565 566 567 568 569 570 571 572 573 574 575 576 577 578 579 580 581 582 583 584 585 586 587 588 589 590 591 592 593 594 595 596 597 598 599 600 601 602 603 604 605 606 607 608 609 610 611 612 613 614 615 616 617 618 619 620 621 622 623 624 625 626 627 628 629 630 631 632 633 634 635 636 637 638 639 640 641 642 643 644 645 646 647 648 649 650 651 652 653 654 655 656 657 658 659 660 661 662 663 664 665 666 667 668 669 670 671 672 673 674 675 676 677 678 679 680 681 682 683 684 685 686 687 688 689 690 691 692 693 694 695 696 697 698 699 700 701 702 703 704 705 706 707 708 709 710 711 712 713 714 715 716 717 718 719 720 721 722 723 724 725 726 727 728 729 730 731 732 733 734 735 736 737 738 739 740 741 742 743 744 745 746 747 748 749 750 751 752 753 754 755 756 757 758 759 760 761 762 763 764 765 766 767 768 769 770 771 772 773 774 775 776 777 778 779 780 781 782 783 784 785 786 787 788 789 790 791 792 793 794 795 796 797 798 799 800 801 802 803 804 805 806 807 808 809 810 811 812 813 814 815 816 817 818 819 820 821 822 823 824 825 826 827 828 829 830 831 832 833 834 835 836 837 838 839 840 841 842 843 844 845 846 847 848 849 850 851 852 853 854 855 856 857 858 859 860 861 862 863 864 865 866 867 868 869 870 871 872 873 874 875 876 877 878 879 880 881 882 883 884 885 886 887 888 889 890 891 892 893 894 895 896 897 898 899 900 901 902 903 904 905 906 907 908 909 910 911 912 913 914 915 916 917 918 919 920 921 922 923 924 925 926 927 928 929 930 931 932 933 934 935 936 937 938 939 940 941 942 943 944 945 946 947 948 949 950 951 952 953 954 955 956 957 958 959 960 961 962 963 964 965 966 967 968 969 970 971 972 973 974 975 976 977 978 979 980 981 982 983 984 985 986 987 988 989 990 991 992 993 994 995 996 997 998 999\n"
          ]
        }
      ],
      "source": [
        "l = merge_sort([i for i in range(0,1000,2)]+[j for j in range (1,1000,2)])\n",
        "print(\" \".join([str(x) for x in l]))"
      ]
    },
    {
      "cell_type": "markdown",
      "metadata": {
        "id": "O8dFFhg3sZ9c"
      },
      "source": [
        "### Perfomance on large inputs, $10^6$, random and sorted"
      ]
    },
    {
      "cell_type": "code",
      "execution_count": 18,
      "metadata": {
        "colab": {
          "base_uri": "https://localhost:8080/"
        },
        "id": "WI6uw7A2sZ9c",
        "outputId": "42574841-b518-46a0-fff6-36c901b0ba32"
      },
      "outputs": [
        {
          "output_type": "stream",
          "name": "stdout",
          "text": [
            "random 8.880369039999891\n",
            "ascending 4.745949083000028\n",
            "descending 4.801238860000012\n"
          ]
        }
      ],
      "source": [
        "import random\n",
        "random.seed(2021)\n",
        "inputlists = {}\n",
        "inputlists[\"random\"] = [random.randrange(100000000) for i in range(1000000)]\n",
        "inputlists[\"ascending\"] = [i for i in range(1000000)]\n",
        "inputlists[\"descending\"] = [i for i in range (999999,-1,-1)]\n",
        "t = Timer()\n",
        "for k in inputlists.keys():\n",
        "    tmplist = inputlists[k][:]\n",
        "    t.start()\n",
        "    merge_sort(tmplist)\n",
        "    t.stop()\n",
        "    print(k,t)"
      ]
    }
  ],
  "metadata": {
    "colab": {
      "collapsed_sections": [],
      "provenance": [],
      "include_colab_link": true
    },
    "kernelspec": {
      "display_name": "Python 3",
      "language": "python",
      "name": "python3"
    },
    "language_info": {
      "codemirror_mode": {
        "name": "ipython",
        "version": 3
      },
      "file_extension": ".py",
      "mimetype": "text/x-python",
      "name": "python",
      "nbconvert_exporter": "python",
      "pygments_lexer": "ipython3",
      "version": "3.7.7"
    }
  },
  "nbformat": 4,
  "nbformat_minor": 0
}