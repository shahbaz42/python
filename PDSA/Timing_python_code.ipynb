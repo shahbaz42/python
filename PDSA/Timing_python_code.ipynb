{
  "nbformat": 4,
  "nbformat_minor": 0,
  "metadata": {
    "colab": {
      "provenance": [],
      "collapsed_sections": [],
      "authorship_tag": "ABX9TyPYHNa6P46mv2fAEMdEr8xO",
      "include_colab_link": true
    },
    "kernelspec": {
      "name": "python3",
      "display_name": "Python 3"
    },
    "language_info": {
      "name": "python"
    }
  },
  "cells": [
    {
      "cell_type": "markdown",
      "metadata": {
        "id": "view-in-github",
        "colab_type": "text"
      },
      "source": [
        "<a href=\"https://colab.research.google.com/github/shahbaz42/python/blob/main/Timing_python_code.ipynb\" target=\"_parent\"><img src=\"https://colab.research.google.com/assets/colab-badge.svg\" alt=\"Open In Colab\"/></a>"
      ]
    },
    {
      "cell_type": "code",
      "execution_count": null,
      "metadata": {
        "id": "OmRUmHZ-rF65"
      },
      "outputs": [],
      "source": [
        "import sys\n",
        "\n",
        "sys.setrecursionlimit(35000)\n",
        "\n",
        "def fact(n):\n",
        "  if n <= 1 :\n",
        "    return 1\n",
        "  else :\n",
        "    return n*fact(n-1)"
      ]
    },
    {
      "cell_type": "code",
      "source": [
        "import time \n",
        "\n",
        "class Timer:\n",
        "\n",
        "  def __init__(self):\n",
        "    self.start_time = time.perf_counter()\n",
        "  \n",
        "  def elapsed(self):\n",
        "    \"\"\"\n",
        "    This returns elapsed time\n",
        "    \"\"\"\n",
        "    return time.perf_counter() - self.start_time"
      ],
      "metadata": {
        "id": "qiNpBOxRvKGq"
      },
      "execution_count": null,
      "outputs": []
    },
    {
      "cell_type": "code",
      "source": [
        "t1 = Timer()\n",
        "fact(500)\n",
        "print(t1.elapsed())"
      ],
      "metadata": {
        "colab": {
          "base_uri": "https://localhost:8080/"
        },
        "id": "OnyTxU2e4IkP",
        "outputId": "d9aaffca-a457-45f3-a399-ab6cda8a3f38"
      },
      "execution_count": null,
      "outputs": [
        {
          "output_type": "stream",
          "name": "stdout",
          "text": [
            "0.0007676139998693543\n"
          ]
        }
      ]
    },
    {
      "cell_type": "code",
      "source": [
        "for i in range(4,9):\n",
        "  n = 0\n",
        "  t2 = Timer()\n",
        "  for j in range(10**i):\n",
        "    n += 1\n",
        "  print(f\"10**{i} calculations : {t2.elapsed()}\")  "
      ],
      "metadata": {
        "colab": {
          "base_uri": "https://localhost:8080/"
        },
        "id": "un2TqLRg6bbC",
        "outputId": "5d22019c-f44d-447a-fcc4-992ff060a180"
      },
      "execution_count": null,
      "outputs": [
        {
          "output_type": "stream",
          "name": "stdout",
          "text": [
            "10**4 calculations : 0.0009612140001991065\n",
            "10**5 calculations : 0.020334918000116886\n",
            "10**6 calculations : 0.10073852499954228\n",
            "10**7 calculations : 0.9880233970006884\n",
            "10**8 calculations : 10.03949586499948\n"
          ]
        }
      ]
    }
  ]
}